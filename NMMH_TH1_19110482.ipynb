{
  "cells": [
    {
      "cell_type": "markdown",
      "source": [
        "## Nhập môn máy học\n",
        " * Bài thực hành số 1\n",
        " * Sinh viên: Huỳnh Thị Bảo Trân\n",
        " * MSSV: 19110482"
      ],
      "metadata": {
        "id": "BKpE5CErN6Sr"
      }
    },
    {
      "cell_type": "markdown",
      "metadata": {
        "id": "Ltykl67CQWcZ"
      },
      "source": [
        "## Bài tập\n",
        "Cho dữ liệu gồm 100 hàng, gồm chiều rộng, chiều dài và giá của một ngôi nhà, hay xây dựng một mô hình dư đoán giá nhà dựa vào chiều dài và rộng.\n",
        "\n",
        "Hãy dùng mô hình học được: dự đoán xem căn nhà có thông số sau khả năng cao là giá bao nhiêu:\n",
        "- width = 5, length = 10\n",
        "- width = 20, length = 20\n",
        "- width = 10, length = 40"
      ]
    },
    {
      "cell_type": "markdown",
      "source": [
        "## Nộp bài\n",
        "- Code và chạy kết quả lưu vào file notebook NMMH_TH1_MSSV.ipynb (notebook phải có kết quả chạy nếu ko xem như chưa làm)\n",
        "- Nộp file notebook có đuôi .ipynb và nộp về: huynhthanh98vn@gmail.com\n",
        "- Deadline: 23g59 thứ 6 ngày 15/04/2022. Nộp trễ bị chia đôi số điểm."
      ],
      "metadata": {
        "id": "m4VqB8IZOO3X"
      }
    },
    {
      "cell_type": "markdown",
      "source": [
        "Tải file dữ liệu"
      ],
      "metadata": {
        "id": "ga7ln6E-XvJQ"
      }
    },
    {
      "cell_type": "code",
      "source": [
        "# tai file data\n",
        "!gdown --id 1xmaX9QHTWnKe58oIMT1ohnhPLU15WQ2O"
      ],
      "metadata": {
        "colab": {
          "base_uri": "https://localhost:8080/"
        },
        "id": "mJheStl9RCSj",
        "outputId": "894bfbb9-a1c3-4e6d-b02e-57cd9cec7460"
      },
      "execution_count": 55,
      "outputs": [
        {
          "output_type": "stream",
          "name": "stdout",
          "text": [
            "/usr/local/lib/python3.7/dist-packages/gdown/cli.py:131: FutureWarning: Option `--id` was deprecated in version 4.3.1 and will be removed in 5.0. You don't need to pass it anymore to use a file ID.\n",
            "  category=FutureWarning,\n",
            "Downloading...\n",
            "From: https://drive.google.com/uc?id=1xmaX9QHTWnKe58oIMT1ohnhPLU15WQ2O\n",
            "To: /content/House_Price_2.csv\n",
            "100% 2.46k/2.46k [00:00<00:00, 3.63MB/s]\n"
          ]
        }
      ]
    },
    {
      "cell_type": "markdown",
      "source": [
        "Các thư viện được sử dụng"
      ],
      "metadata": {
        "id": "ek-feJDxXz4M"
      }
    },
    {
      "cell_type": "code",
      "source": [
        "# cac thu vien\n",
        "import matplotlib.pyplot as plt\n",
        "import pandas as pd\n",
        "import numpy as np\n",
        "import matplotlib as mpl \n",
        "from mpl_toolkits.mplot3d import Axes3D "
      ],
      "metadata": {
        "id": "rgdVJG9UDKl5"
      },
      "execution_count": 56,
      "outputs": []
    },
    {
      "cell_type": "markdown",
      "source": [
        "Load dữ liệu"
      ],
      "metadata": {
        "id": "R35puIIBX3_Q"
      }
    },
    {
      "cell_type": "code",
      "execution_count": 57,
      "metadata": {
        "id": "UVEc3tnBQWcZ",
        "colab": {
          "base_uri": "https://localhost:8080/",
          "height": 206
        },
        "outputId": "8b4751b5-e23d-4e5d-cebf-24f0844e1098"
      },
      "outputs": [
        {
          "output_type": "execute_result",
          "data": {
            "text/plain": [
              "   width  length         price\n",
              "0     28      97  3.350184e+08\n",
              "1     21      62  2.298295e+08\n",
              "2     27      64  2.603552e+08\n",
              "3      5      92  2.064708e+08\n",
              "4     13      84  2.339808e+08"
            ],
            "text/html": [
              "\n",
              "  <div id=\"df-970fb1ed-09e1-4884-a8bc-099adae76821\">\n",
              "    <div class=\"colab-df-container\">\n",
              "      <div>\n",
              "<style scoped>\n",
              "    .dataframe tbody tr th:only-of-type {\n",
              "        vertical-align: middle;\n",
              "    }\n",
              "\n",
              "    .dataframe tbody tr th {\n",
              "        vertical-align: top;\n",
              "    }\n",
              "\n",
              "    .dataframe thead th {\n",
              "        text-align: right;\n",
              "    }\n",
              "</style>\n",
              "<table border=\"1\" class=\"dataframe\">\n",
              "  <thead>\n",
              "    <tr style=\"text-align: right;\">\n",
              "      <th></th>\n",
              "      <th>width</th>\n",
              "      <th>length</th>\n",
              "      <th>price</th>\n",
              "    </tr>\n",
              "  </thead>\n",
              "  <tbody>\n",
              "    <tr>\n",
              "      <th>0</th>\n",
              "      <td>28</td>\n",
              "      <td>97</td>\n",
              "      <td>3.350184e+08</td>\n",
              "    </tr>\n",
              "    <tr>\n",
              "      <th>1</th>\n",
              "      <td>21</td>\n",
              "      <td>62</td>\n",
              "      <td>2.298295e+08</td>\n",
              "    </tr>\n",
              "    <tr>\n",
              "      <th>2</th>\n",
              "      <td>27</td>\n",
              "      <td>64</td>\n",
              "      <td>2.603552e+08</td>\n",
              "    </tr>\n",
              "    <tr>\n",
              "      <th>3</th>\n",
              "      <td>5</td>\n",
              "      <td>92</td>\n",
              "      <td>2.064708e+08</td>\n",
              "    </tr>\n",
              "    <tr>\n",
              "      <th>4</th>\n",
              "      <td>13</td>\n",
              "      <td>84</td>\n",
              "      <td>2.339808e+08</td>\n",
              "    </tr>\n",
              "  </tbody>\n",
              "</table>\n",
              "</div>\n",
              "      <button class=\"colab-df-convert\" onclick=\"convertToInteractive('df-970fb1ed-09e1-4884-a8bc-099adae76821')\"\n",
              "              title=\"Convert this dataframe to an interactive table.\"\n",
              "              style=\"display:none;\">\n",
              "        \n",
              "  <svg xmlns=\"http://www.w3.org/2000/svg\" height=\"24px\"viewBox=\"0 0 24 24\"\n",
              "       width=\"24px\">\n",
              "    <path d=\"M0 0h24v24H0V0z\" fill=\"none\"/>\n",
              "    <path d=\"M18.56 5.44l.94 2.06.94-2.06 2.06-.94-2.06-.94-.94-2.06-.94 2.06-2.06.94zm-11 1L8.5 8.5l.94-2.06 2.06-.94-2.06-.94L8.5 2.5l-.94 2.06-2.06.94zm10 10l.94 2.06.94-2.06 2.06-.94-2.06-.94-.94-2.06-.94 2.06-2.06.94z\"/><path d=\"M17.41 7.96l-1.37-1.37c-.4-.4-.92-.59-1.43-.59-.52 0-1.04.2-1.43.59L10.3 9.45l-7.72 7.72c-.78.78-.78 2.05 0 2.83L4 21.41c.39.39.9.59 1.41.59.51 0 1.02-.2 1.41-.59l7.78-7.78 2.81-2.81c.8-.78.8-2.07 0-2.86zM5.41 20L4 18.59l7.72-7.72 1.47 1.35L5.41 20z\"/>\n",
              "  </svg>\n",
              "      </button>\n",
              "      \n",
              "  <style>\n",
              "    .colab-df-container {\n",
              "      display:flex;\n",
              "      flex-wrap:wrap;\n",
              "      gap: 12px;\n",
              "    }\n",
              "\n",
              "    .colab-df-convert {\n",
              "      background-color: #E8F0FE;\n",
              "      border: none;\n",
              "      border-radius: 50%;\n",
              "      cursor: pointer;\n",
              "      display: none;\n",
              "      fill: #1967D2;\n",
              "      height: 32px;\n",
              "      padding: 0 0 0 0;\n",
              "      width: 32px;\n",
              "    }\n",
              "\n",
              "    .colab-df-convert:hover {\n",
              "      background-color: #E2EBFA;\n",
              "      box-shadow: 0px 1px 2px rgba(60, 64, 67, 0.3), 0px 1px 3px 1px rgba(60, 64, 67, 0.15);\n",
              "      fill: #174EA6;\n",
              "    }\n",
              "\n",
              "    [theme=dark] .colab-df-convert {\n",
              "      background-color: #3B4455;\n",
              "      fill: #D2E3FC;\n",
              "    }\n",
              "\n",
              "    [theme=dark] .colab-df-convert:hover {\n",
              "      background-color: #434B5C;\n",
              "      box-shadow: 0px 1px 3px 1px rgba(0, 0, 0, 0.15);\n",
              "      filter: drop-shadow(0px 1px 2px rgba(0, 0, 0, 0.3));\n",
              "      fill: #FFFFFF;\n",
              "    }\n",
              "  </style>\n",
              "\n",
              "      <script>\n",
              "        const buttonEl =\n",
              "          document.querySelector('#df-970fb1ed-09e1-4884-a8bc-099adae76821 button.colab-df-convert');\n",
              "        buttonEl.style.display =\n",
              "          google.colab.kernel.accessAllowed ? 'block' : 'none';\n",
              "\n",
              "        async function convertToInteractive(key) {\n",
              "          const element = document.querySelector('#df-970fb1ed-09e1-4884-a8bc-099adae76821');\n",
              "          const dataTable =\n",
              "            await google.colab.kernel.invokeFunction('convertToInteractive',\n",
              "                                                     [key], {});\n",
              "          if (!dataTable) return;\n",
              "\n",
              "          const docLinkHtml = 'Like what you see? Visit the ' +\n",
              "            '<a target=\"_blank\" href=https://colab.research.google.com/notebooks/data_table.ipynb>data table notebook</a>'\n",
              "            + ' to learn more about interactive tables.';\n",
              "          element.innerHTML = '';\n",
              "          dataTable['output_type'] = 'display_data';\n",
              "          await google.colab.output.renderOutput(dataTable, element);\n",
              "          const docLink = document.createElement('div');\n",
              "          docLink.innerHTML = docLinkHtml;\n",
              "          element.appendChild(docLink);\n",
              "        }\n",
              "      </script>\n",
              "    </div>\n",
              "  </div>\n",
              "  "
            ]
          },
          "metadata": {},
          "execution_count": 57
        }
      ],
      "source": [
        "# load du lieu\n",
        "dataset = pd.read_csv('House_Price_2.csv')\n",
        "dataset.head()"
      ]
    },
    {
      "cell_type": "markdown",
      "source": [
        "Vẽ hình"
      ],
      "metadata": {
        "id": "z3vBZNhsX8Ew"
      }
    },
    {
      "cell_type": "code",
      "execution_count": 58,
      "metadata": {
        "id": "fJwx8v0yQWcZ",
        "colab": {
          "base_uri": "https://localhost:8080/",
          "height": 355
        },
        "outputId": "6567dbe4-4f80-409c-c243-f21b73bdc144"
      },
      "outputs": [
        {
          "output_type": "display_data",
          "data": {
            "text/plain": [
              "<Figure size 1080x360 with 2 Axes>"
            ],
            "image/png": "[encoded data removed]"
          },
          "metadata": {}
        }
      ],
      "source": [
        "# ve hinh\n",
        "plt.figure(figsize = (15, 5))\n",
        "plt.subplot(1, 2, 1)\n",
        "plt.scatter(dataset['width'], dataset['price'], color = 'g')\n",
        "plt.xlabel('width')\n",
        "plt.ylabel('price')\n",
        "plt.title('width vs price')\n",
        "\n",
        "plt.subplot(1, 2, 2)\n",
        "plt.scatter(dataset['length'], dataset['price'], color = 'g')\n",
        "plt.xlabel('length')\n",
        "plt.ylabel('price')\n",
        "plt.title('length vs price')\n",
        "\n",
        "plt.show()"
      ]
    },
    {
      "cell_type": "markdown",
      "source": [
        "Tính toán các giá trị"
      ],
      "metadata": {
        "id": "B-ZH7wFHX_qX"
      }
    },
    {
      "cell_type": "code",
      "source": [
        "x = dataset.drop(['price'], axis = 1)\n",
        "x"
      ],
      "metadata": {
        "colab": {
          "base_uri": "https://localhost:8080/",
          "height": 424
        },
        "id": "LVF2fcV2-5X-",
        "outputId": "f272c691-8cab-466d-b3b8-d0c7d6118b9b"
      },
      "execution_count": 59,
      "outputs": [
        {
          "output_type": "execute_result",
          "data": {
            "text/plain": [
              "    width  length\n",
              "0      28      97\n",
              "1      21      62\n",
              "2      27      64\n",
              "3       5      92\n",
              "4      13      84\n",
              "..    ...     ...\n",
              "95     23      94\n",
              "96     10      69\n",
              "97     11      35\n",
              "98      8      66\n",
              "99     18      28\n",
              "\n",
              "[100 rows x 2 columns]"
            ],
            "text/html": [
              "\n",
              "  <div id=\"df-7d0374c7-571e-480b-bb02-4c23cd5521de\">\n",
              "    <div class=\"colab-df-container\">\n",
              "      <div>\n",
              "<style scoped>\n",
              "    .dataframe tbody tr th:only-of-type {\n",
              "        vertical-align: middle;\n",
              "    }\n",
              "\n",
              "    .dataframe tbody tr th {\n",
              "        vertical-align: top;\n",
              "    }\n",
              "\n",
              "    .dataframe thead th {\n",
              "        text-align: right;\n",
              "    }\n",
              "</style>\n",
              "<table border=\"1\" class=\"dataframe\">\n",
              "  <thead>\n",
              "    <tr style=\"text-align: right;\">\n",
              "      <th></th>\n",
              "      <th>width</th>\n",
              "      <th>length</th>\n",
              "    </tr>\n",
              "  </thead>\n",
              "  <tbody>\n",
              "    <tr>\n",
              "      <th>0</th>\n",
              "      <td>28</td>\n",
              "      <td>97</td>\n",
              "    </tr>\n",
              "    <tr>\n",
              "      <th>1</th>\n",
              "      <td>21</td>\n",
              "      <td>62</td>\n",
              "    </tr>\n",
              "    <tr>\n",
              "      <th>2</th>\n",
              "      <td>27</td>\n",
              "      <td>64</td>\n",
              "    </tr>\n",
              "    <tr>\n",
              "      <th>3</th>\n",
              "      <td>5</td>\n",
              "      <td>92</td>\n",
              "    </tr>\n",
              "    <tr>\n",
              "      <th>4</th>\n",
              "      <td>13</td>\n",
              "      <td>84</td>\n",
              "    </tr>\n",
              "    <tr>\n",
              "      <th>...</th>\n",
              "      <td>...</td>\n",
              "      <td>...</td>\n",
              "    </tr>\n",
              "    <tr>\n",
              "      <th>95</th>\n",
              "      <td>23</td>\n",
              "      <td>94</td>\n",
              "    </tr>\n",
              "    <tr>\n",
              "      <th>96</th>\n",
              "      <td>10</td>\n",
              "      <td>69</td>\n",
              "    </tr>\n",
              "    <tr>\n",
              "      <th>97</th>\n",
              "      <td>11</td>\n",
              "      <td>35</td>\n",
              "    </tr>\n",
              "    <tr>\n",
              "      <th>98</th>\n",
              "      <td>8</td>\n",
              "      <td>66</td>\n",
              "    </tr>\n",
              "    <tr>\n",
              "      <th>99</th>\n",
              "      <td>18</td>\n",
              "      <td>28</td>\n",
              "    </tr>\n",
              "  </tbody>\n",
              "</table>\n",
              "<p>100 rows × 2 columns</p>\n",
              "</div>\n",
              "      <button class=\"colab-df-convert\" onclick=\"convertToInteractive('df-7d0374c7-571e-480b-bb02-4c23cd5521de')\"\n",
              "              title=\"Convert this dataframe to an interactive table.\"\n",
              "              style=\"display:none;\">\n",
              "        \n",
              "  <svg xmlns=\"http://www.w3.org/2000/svg\" height=\"24px\"viewBox=\"0 0 24 24\"\n",
              "       width=\"24px\">\n",
              "    <path d=\"M0 0h24v24H0V0z\" fill=\"none\"/>\n",
              "    <path d=\"M18.56 5.44l.94 2.06.94-2.06 2.06-.94-2.06-.94-.94-2.06-.94 2.06-2.06.94zm-11 1L8.5 8.5l.94-2.06 2.06-.94-2.06-.94L8.5 2.5l-.94 2.06-2.06.94zm10 10l.94 2.06.94-2.06 2.06-.94-2.06-.94-.94-2.06-.94 2.06-2.06.94z\"/><path d=\"M17.41 7.96l-1.37-1.37c-.4-.4-.92-.59-1.43-.59-.52 0-1.04.2-1.43.59L10.3 9.45l-7.72 7.72c-.78.78-.78 2.05 0 2.83L4 21.41c.39.39.9.59 1.41.59.51 0 1.02-.2 1.41-.59l7.78-7.78 2.81-2.81c.8-.78.8-2.07 0-2.86zM5.41 20L4 18.59l7.72-7.72 1.47 1.35L5.41 20z\"/>\n",
              "  </svg>\n",
              "      </button>\n",
              "      \n",
              "  <style>\n",
              "    .colab-df-container {\n",
              "      display:flex;\n",
              "      flex-wrap:wrap;\n",
              "      gap: 12px;\n",
              "    }\n",
              "\n",
              "    .colab-df-convert {\n",
              "      background-color: #E8F0FE;\n",
              "      border: none;\n",
              "      border-radius: 50%;\n",
              "      cursor: pointer;\n",
              "      display: none;\n",
              "      fill: #1967D2;\n",
              "      height: 32px;\n",
              "      padding: 0 0 0 0;\n",
              "      width: 32px;\n",
              "    }\n",
              "\n",
              "    .colab-df-convert:hover {\n",
              "      background-color: #E2EBFA;\n",
              "      box-shadow: 0px 1px 2px rgba(60, 64, 67, 0.3), 0px 1px 3px 1px rgba(60, 64, 67, 0.15);\n",
              "      fill: #174EA6;\n",
              "    }\n",
              "\n",
              "    [theme=dark] .colab-df-convert {\n",
              "      background-color: #3B4455;\n",
              "      fill: #D2E3FC;\n",
              "    }\n",
              "\n",
              "    [theme=dark] .colab-df-convert:hover {\n",
              "      background-color: #434B5C;\n",
              "      box-shadow: 0px 1px 3px 1px rgba(0, 0, 0, 0.15);\n",
              "      filter: drop-shadow(0px 1px 2px rgba(0, 0, 0, 0.3));\n",
              "      fill: #FFFFFF;\n",
              "    }\n",
              "  </style>\n",
              "\n",
              "      <script>\n",
              "        const buttonEl =\n",
              "          document.querySelector('#df-7d0374c7-571e-480b-bb02-4c23cd5521de button.colab-df-convert');\n",
              "        buttonEl.style.display =\n",
              "          google.colab.kernel.accessAllowed ? 'block' : 'none';\n",
              "\n",
              "        async function convertToInteractive(key) {\n",
              "          const element = document.querySelector('#df-7d0374c7-571e-480b-bb02-4c23cd5521de');\n",
              "          const dataTable =\n",
              "            await google.colab.kernel.invokeFunction('convertToInteractive',\n",
              "                                                     [key], {});\n",
              "          if (!dataTable) return;\n",
              "\n",
              "          const docLinkHtml = 'Like what you see? Visit the ' +\n",
              "            '<a target=\"_blank\" href=https://colab.research.google.com/notebooks/data_table.ipynb>data table notebook</a>'\n",
              "            + ' to learn more about interactive tables.';\n",
              "          element.innerHTML = '';\n",
              "          dataTable['output_type'] = 'display_data';\n",
              "          await google.colab.output.renderOutput(dataTable, element);\n",
              "          const docLink = document.createElement('div');\n",
              "          docLink.innerHTML = docLinkHtml;\n",
              "          element.appendChild(docLink);\n",
              "        }\n",
              "      </script>\n",
              "    </div>\n",
              "  </div>\n",
              "  "
            ]
          },
          "metadata": {},
          "execution_count": 59
        }
      ]
    },
    {
      "cell_type": "code",
      "source": [
        "y = dataset.price\n",
        "y"
      ],
      "metadata": {
        "colab": {
          "base_uri": "https://localhost:8080/"
        },
        "id": "uADbtVad_Osd",
        "outputId": "c196b055-78ed-4cfc-ea49-406d522f0e9c"
      },
      "execution_count": 60,
      "outputs": [
        {
          "output_type": "execute_result",
          "data": {
            "text/plain": [
              "0     3.350184e+08\n",
              "1     2.298295e+08\n",
              "2     2.603552e+08\n",
              "3     2.064708e+08\n",
              "4     2.339808e+08\n",
              "          ...     \n",
              "95    3.055955e+08\n",
              "96    1.890808e+08\n",
              "97    1.305380e+08\n",
              "98    1.701948e+08\n",
              "99    1.455254e+08\n",
              "Name: price, Length: 100, dtype: float64"
            ]
          },
          "metadata": {},
          "execution_count": 60
        }
      ]
    },
    {
      "cell_type": "code",
      "source": [
        "z = np.concatenate([x, np.ones((x.shape[0], 1))], axis = -1)\n",
        "z"
      ],
      "metadata": {
        "colab": {
          "base_uri": "https://localhost:8080/"
        },
        "id": "43uJnx_B_Fft",
        "outputId": "f5d3a226-cb93-4dc4-df8d-790d887e3e00"
      },
      "execution_count": 61,
      "outputs": [
        {
          "output_type": "execute_result",
          "data": {
            "text/plain": [
              "array([[28., 97.,  1.],\n",
              "       [21., 62.,  1.],\n",
              "       [27., 64.,  1.],\n",
              "       [ 5., 92.,  1.],\n",
              "       [13., 84.,  1.],\n",
              "       [ 6., 62.,  1.],\n",
              "       [14., 60.,  1.],\n",
              "       [22., 72.,  1.],\n",
              "       [29., 84.,  1.],\n",
              "       [29., 60.,  1.],\n",
              "       [18., 37.,  1.],\n",
              "       [20., 32.,  1.],\n",
              "       [15., 96.,  1.],\n",
              "       [23., 58.,  1.],\n",
              "       [29., 86.,  1.],\n",
              "       [26., 50.,  1.],\n",
              "       [25., 83.,  1.],\n",
              "       [ 7., 73.,  1.],\n",
              "       [24., 92.,  1.],\n",
              "       [23., 65.,  1.],\n",
              "       [14., 79.,  1.],\n",
              "       [23., 33.,  1.],\n",
              "       [15., 47.,  1.],\n",
              "       [ 8., 46.,  1.],\n",
              "       [23., 88.,  1.],\n",
              "       [16., 61.,  1.],\n",
              "       [25., 94.,  1.],\n",
              "       [24., 56.,  1.],\n",
              "       [12., 48.,  1.],\n",
              "       [14., 71.,  1.],\n",
              "       [13., 60.,  1.],\n",
              "       [11., 30.,  1.],\n",
              "       [10., 25.,  1.],\n",
              "       [28., 84.,  1.],\n",
              "       [28., 63.,  1.],\n",
              "       [20., 26.,  1.],\n",
              "       [ 5., 24.,  1.],\n",
              "       [26., 91.,  1.],\n",
              "       [20., 39.,  1.],\n",
              "       [23., 38.,  1.],\n",
              "       [18., 41.,  1.],\n",
              "       [20., 81.,  1.],\n",
              "       [20., 75.,  1.],\n",
              "       [10., 39.,  1.],\n",
              "       [25., 45.,  1.],\n",
              "       [ 9., 25.,  1.],\n",
              "       [ 9., 40.,  1.],\n",
              "       [15., 83.,  1.],\n",
              "       [25., 23.,  1.],\n",
              "       [ 8., 31.,  1.],\n",
              "       [13., 40.,  1.],\n",
              "       [27., 80.,  1.],\n",
              "       [ 7., 93.,  1.],\n",
              "       [28., 30.,  1.],\n",
              "       [16., 56.,  1.],\n",
              "       [12., 68.,  1.],\n",
              "       [ 9., 63.,  1.],\n",
              "       [ 8., 58.,  1.],\n",
              "       [22., 27.,  1.],\n",
              "       [22., 88.,  1.],\n",
              "       [12., 48.,  1.],\n",
              "       [ 7., 48.,  1.],\n",
              "       [ 5., 55.,  1.],\n",
              "       [ 8., 72.,  1.],\n",
              "       [11., 39.,  1.],\n",
              "       [16., 78.,  1.],\n",
              "       [22., 25.,  1.],\n",
              "       [15., 78.,  1.],\n",
              "       [12., 71.,  1.],\n",
              "       [24., 92.,  1.],\n",
              "       [24., 76.,  1.],\n",
              "       [23., 75.,  1.],\n",
              "       [ 8., 24.,  1.],\n",
              "       [17., 82.,  1.],\n",
              "       [ 7., 38.,  1.],\n",
              "       [13., 33.,  1.],\n",
              "       [10., 46.,  1.],\n",
              "       [15., 59.,  1.],\n",
              "       [13., 20.,  1.],\n",
              "       [21., 55.,  1.],\n",
              "       [ 5., 53.,  1.],\n",
              "       [24., 29.,  1.],\n",
              "       [11., 79.,  1.],\n",
              "       [12., 90.,  1.],\n",
              "       [21., 27.,  1.],\n",
              "       [29., 96.,  1.],\n",
              "       [ 5., 31.,  1.],\n",
              "       [13., 96.,  1.],\n",
              "       [23., 91.,  1.],\n",
              "       [ 5., 74.,  1.],\n",
              "       [16., 76.,  1.],\n",
              "       [19., 45.,  1.],\n",
              "       [22., 69.,  1.],\n",
              "       [23., 72.,  1.],\n",
              "       [25., 45.,  1.],\n",
              "       [23., 94.,  1.],\n",
              "       [10., 69.,  1.],\n",
              "       [11., 35.,  1.],\n",
              "       [ 8., 66.,  1.],\n",
              "       [18., 28.,  1.]])"
            ]
          },
          "metadata": {},
          "execution_count": 61
        }
      ]
    },
    {
      "cell_type": "code",
      "source": [
        "# tim a, b, c\n",
        "[a, b, c] = np.matmul(np.matmul(np.linalg.inv(np.matmul(z.T, z)), z.T), y)\n",
        "[a, b, c]"
      ],
      "metadata": {
        "colab": {
          "base_uri": "https://localhost:8080/"
        },
        "id": "H5xukiYh_X88",
        "outputId": "381cea3c-e890-419c-d36d-873ca6a67cb0"
      },
      "execution_count": 62,
      "outputs": [
        {
          "output_type": "execute_result",
          "data": {
            "text/plain": [
              "[4992438.83485118, 1997577.0972277792, 844994.8258748334]"
            ]
          },
          "metadata": {},
          "execution_count": 62
        }
      ]
    },
    {
      "cell_type": "code",
      "source": [
        "def prediction(width, length):\n",
        "  return a*width + b*length + c"
      ],
      "metadata": {
        "id": "NBQxr1PhGV95"
      },
      "execution_count": 63,
      "outputs": []
    },
    {
      "cell_type": "code",
      "source": [
        "# du doan width = 5, length = 10\n",
        "print('du doan width = 5, length = 10')\n",
        "prediction(5, 10)"
      ],
      "metadata": {
        "colab": {
          "base_uri": "https://localhost:8080/"
        },
        "id": "7QpKJrPKHNLx",
        "outputId": "c67521c9-8096-4f3a-d739-f889ec656f1f"
      },
      "execution_count": 64,
      "outputs": [
        {
          "output_type": "stream",
          "name": "stdout",
          "text": [
            "du doan width = 5, length = 10\n"
          ]
        },
        {
          "output_type": "execute_result",
          "data": {
            "text/plain": [
              "45782959.972408526"
            ]
          },
          "metadata": {},
          "execution_count": 64
        }
      ]
    },
    {
      "cell_type": "code",
      "source": [
        "# du doan width = 20, length = 20\n",
        "print('du doan width = 20, length = 20')\n",
        "prediction(20, 20)"
      ],
      "metadata": {
        "colab": {
          "base_uri": "https://localhost:8080/"
        },
        "id": "jXCMo1wNHoPp",
        "outputId": "3cb9a3b8-d868-4386-e59a-390828df426a"
      },
      "execution_count": 65,
      "outputs": [
        {
          "output_type": "stream",
          "name": "stdout",
          "text": [
            "du doan width = 20, length = 20\n"
          ]
        },
        {
          "output_type": "execute_result",
          "data": {
            "text/plain": [
              "140645313.46745402"
            ]
          },
          "metadata": {},
          "execution_count": 65
        }
      ]
    },
    {
      "cell_type": "code",
      "source": [
        "# du doan width = 10, length = 40\n",
        "print('du doan width = 10, length = 40')\n",
        "prediction(10, 40)"
      ],
      "metadata": {
        "colab": {
          "base_uri": "https://localhost:8080/"
        },
        "id": "l6V_YXDUHp7r",
        "outputId": "ab00a350-fdfe-40c2-a184-6b9265f702b6"
      },
      "execution_count": 66,
      "outputs": [
        {
          "output_type": "stream",
          "name": "stdout",
          "text": [
            "du doan width = 10, length = 40\n"
          ]
        },
        {
          "output_type": "execute_result",
          "data": {
            "text/plain": [
              "130672467.0634978"
            ]
          },
          "metadata": {},
          "execution_count": 66
        }
      ]
    },
    {
      "cell_type": "code",
      "source": [
        "# ve hinh\n",
        "fig = plt.figure()\n",
        "ax = fig.gca(projection = '3d')\n",
        "ax.scatter(dataset.length, dataset.width, dataset.price, label = 'y', s = 5)\n",
        "ax.view_init(45, 0)\n",
        "ax.legend()\n",
        "plt.show()"
      ],
      "metadata": {
        "colab": {
          "base_uri": "https://localhost:8080/",
          "height": 248
        },
        "id": "vYCCHfKFbLYV",
        "outputId": "4deefaac-c694-4e15-bccd-931e24eb186a"
      },
      "execution_count": 67,
      "outputs": [
        {
          "output_type": "display_data",
          "data": {
            "text/plain": [
              "<Figure size 432x288 with 1 Axes>"
            ],
            "image/png": "[encoded data removed]"
          },
          "metadata": {}
        }
      ]
    },
    {
      "cell_type": "code",
      "source": [
        "# ve hinh\n",
        "fig = plt.figure()\n",
        "ax = fig.gca(projection = '3d')\n",
        "ax.scatter(dataset.length, dataset.width, dataset.price, label = 'y', s = 5, color = 'dodgerblue')\n",
        "ax.scatter(dataset.length, dataset.width, a*dataset.length + b*dataset.width + c, label = 'regression', s = 5, color = 'g') \n",
        "ax.view_init(45, 0)\n",
        "ax.legend()\n",
        "plt.show()"
      ],
      "metadata": {
        "colab": {
          "base_uri": "https://localhost:8080/",
          "height": 248
        },
        "id": "Rewof-q7dCvo",
        "outputId": "884334e7-6737-4c75-e769-0e9b35a1e1d5"
      },
      "execution_count": 68,
      "outputs": [
        {
          "output_type": "display_data",
          "data": {
            "text/plain": [
              "<Figure size 432x288 with 1 Axes>"
            ],
            "image/png": "[encoded data removed]"
          },
          "metadata": {}
        }
      ]
    }
  ],
  "metadata": {
    "kernelspec": {
      "display_name": "Python 3",
      "language": "python",
      "name": "python3"
    },
    "language_info": {
      "codemirror_mode": {
        "name": "ipython",
        "version": 3
      },
      "file_extension": ".py",
      "mimetype": "text/x-python",
      "name": "python",
      "nbconvert_exporter": "python",
      "pygments_lexer": "ipython3",
      "version": "3.6.8"
    },
    "colab": {
      "name": "NMMH_TH1_19110482",
      "provenance": [],
      "collapsed_sections": []
    }
  },
  "nbformat": 4,
  "nbformat_minor": 0
}