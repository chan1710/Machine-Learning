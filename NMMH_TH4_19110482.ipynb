{
  "cells": [
    {
      "cell_type": "markdown",
      "metadata": {
        "id": "vYtVLD1LsvEp"
      },
      "source": [
        "## Môn: Nhập môn máy học\n",
        " * Bài thực hành Lab 04\n",
        " * Sinh viên: Huỳnh Thị Bảo Trân\n",
        " * MSSV: 19110482"
      ]
    },
    {
      "cell_type": "markdown",
      "metadata": {
        "id": "Ob2QOkE_LwRP"
      },
      "source": [
        "# Lab 04: Naive Bayes\n",
        "\n",
        "Trong bài tập này, chúng ta sẽ xây dựng một mô hình dự đoán đội chiến thắng trong một trận đấu Liên Minh Huyền Thoại.\n",
        "\n",
        "Về cơ bản, Liên Minh Huyền Thoại là một game giữa hai đội Blue và Red với mục tiêu là phá hủy nhà chính đối phương. Mỗi đội có 5 người chơi, mỗi người điều khiển 1 nhân vật. Trong trò chơi, để chiến thắng người chơi có thể:\n",
        "- Hạ gục đối phương: thể hiện bằng chỉ số hạ gục (Kills)\n",
        "- Hạ gục lính kiếm tiền mua trang bị (MinionsKilled)\n",
        "- Cắm mắt để có tầm nhìn, thêm thông tin về đối phương (WardsPlaced)\n",
        "- Ăn sứ giả lấy bùa và vật phẩm (Heralds)\n",
        "- Ăn bùa rồng (Dragons)\n",
        "\n",
        "## Data\n",
        "\n",
        "Dựa vào các thông tin trong 10 phút đầu của trận đấu\n",
        "- killsDiff: số mạng hạ gục chênh lêch giữa đội Blue và Red, số nguyên\n",
        "- minionsKilledDiff: số lính hạ gục chênh lêch giữa đội Blue và Red, số nguyên\n",
        "- wardPlacedDiff: số mắt đã cắm chênh lêch giữa đội Blue và Red, số nguyên\n",
        "- firstBlood: đội nào có mạng hạ gục đầu tiên, category: blue hoặc red\n",
        "- heralds: đội nào hạ gục heralds, category: none, blue hoặc red\n",
        "- dragons: đội nào hạ gục dragons, category: none, blue hoặc red\n",
        "\n",
        "Hãy dự đoán đội nào chiến thắng: blue hay red"
      ]
    },
    {
      "cell_type": "code",
      "execution_count": 149,
      "metadata": {
        "id": "S19xvS87LwRU",
        "colab": {
          "base_uri": "https://localhost:8080/",
          "height": 206
        },
        "outputId": "af7072e2-da6f-4d8b-de1a-d6c926fa79f5"
      },
      "outputs": [
        {
          "output_type": "execute_result",
          "data": {
            "text/plain": [
              "   killsDiff  minionsKilledDiff  wardPlacedDiff firstBlood heralds dragons  \\\n",
              "0          3                 -2              13       blue    none    none   \n",
              "1          0                -66               0        red     red     red   \n",
              "2         -4                -17               0        red    none    blue   \n",
              "3         -1                -34              28        red    blue    none   \n",
              "4          0                -15              58        red    none     red   \n",
              "\n",
              "  teamWins  \n",
              "0      red  \n",
              "1      red  \n",
              "2      red  \n",
              "3      red  \n",
              "4      red  "
            ],
            "text/html": [
              "\n",
              "  <div id=\"df-00cc757e-e193-4cde-9136-9dc39c0c7704\">\n",
              "    <div class=\"colab-df-container\">\n",
              "      <div>\n",
              "<style scoped>\n",
              "    .dataframe tbody tr th:only-of-type {\n",
              "        vertical-align: middle;\n",
              "    }\n",
              "\n",
              "    .dataframe tbody tr th {\n",
              "        vertical-align: top;\n",
              "    }\n",
              "\n",
              "    .dataframe thead th {\n",
              "        text-align: right;\n",
              "    }\n",
              "</style>\n",
              "<table border=\"1\" class=\"dataframe\">\n",
              "  <thead>\n",
              "    <tr style=\"text-align: right;\">\n",
              "      <th></th>\n",
              "      <th>killsDiff</th>\n",
              "      <th>minionsKilledDiff</th>\n",
              "      <th>wardPlacedDiff</th>\n",
              "      <th>firstBlood</th>\n",
              "      <th>heralds</th>\n",
              "      <th>dragons</th>\n",
              "      <th>teamWins</th>\n",
              "    </tr>\n",
              "  </thead>\n",
              "  <tbody>\n",
              "    <tr>\n",
              "      <th>0</th>\n",
              "      <td>3</td>\n",
              "      <td>-2</td>\n",
              "      <td>13</td>\n",
              "      <td>blue</td>\n",
              "      <td>none</td>\n",
              "      <td>none</td>\n",
              "      <td>red</td>\n",
              "    </tr>\n",
              "    <tr>\n",
              "      <th>1</th>\n",
              "      <td>0</td>\n",
              "      <td>-66</td>\n",
              "      <td>0</td>\n",
              "      <td>red</td>\n",
              "      <td>red</td>\n",
              "      <td>red</td>\n",
              "      <td>red</td>\n",
              "    </tr>\n",
              "    <tr>\n",
              "      <th>2</th>\n",
              "      <td>-4</td>\n",
              "      <td>-17</td>\n",
              "      <td>0</td>\n",
              "      <td>red</td>\n",
              "      <td>none</td>\n",
              "      <td>blue</td>\n",
              "      <td>red</td>\n",
              "    </tr>\n",
              "    <tr>\n",
              "      <th>3</th>\n",
              "      <td>-1</td>\n",
              "      <td>-34</td>\n",
              "      <td>28</td>\n",
              "      <td>red</td>\n",
              "      <td>blue</td>\n",
              "      <td>none</td>\n",
              "      <td>red</td>\n",
              "    </tr>\n",
              "    <tr>\n",
              "      <th>4</th>\n",
              "      <td>0</td>\n",
              "      <td>-15</td>\n",
              "      <td>58</td>\n",
              "      <td>red</td>\n",
              "      <td>none</td>\n",
              "      <td>red</td>\n",
              "      <td>red</td>\n",
              "    </tr>\n",
              "  </tbody>\n",
              "</table>\n",
              "</div>\n",
              "      <button class=\"colab-df-convert\" onclick=\"convertToInteractive('df-00cc757e-e193-4cde-9136-9dc39c0c7704')\"\n",
              "              title=\"Convert this dataframe to an interactive table.\"\n",
              "              style=\"display:none;\">\n",
              "        \n",
              "  <svg xmlns=\"http://www.w3.org/2000/svg\" height=\"24px\"viewBox=\"0 0 24 24\"\n",
              "       width=\"24px\">\n",
              "    <path d=\"M0 0h24v24H0V0z\" fill=\"none\"/>\n",
              "    <path d=\"M18.56 5.44l.94 2.06.94-2.06 2.06-.94-2.06-.94-.94-2.06-.94 2.06-2.06.94zm-11 1L8.5 8.5l.94-2.06 2.06-.94-2.06-.94L8.5 2.5l-.94 2.06-2.06.94zm10 10l.94 2.06.94-2.06 2.06-.94-2.06-.94-.94-2.06-.94 2.06-2.06.94z\"/><path d=\"M17.41 7.96l-1.37-1.37c-.4-.4-.92-.59-1.43-.59-.52 0-1.04.2-1.43.59L10.3 9.45l-7.72 7.72c-.78.78-.78 2.05 0 2.83L4 21.41c.39.39.9.59 1.41.59.51 0 1.02-.2 1.41-.59l7.78-7.78 2.81-2.81c.8-.78.8-2.07 0-2.86zM5.41 20L4 18.59l7.72-7.72 1.47 1.35L5.41 20z\"/>\n",
              "  </svg>\n",
              "      </button>\n",
              "      \n",
              "  <style>\n",
              "    .colab-df-container {\n",
              "      display:flex;\n",
              "      flex-wrap:wrap;\n",
              "      gap: 12px;\n",
              "    }\n",
              "\n",
              "    .colab-df-convert {\n",
              "      background-color: #E8F0FE;\n",
              "      border: none;\n",
              "      border-radius: 50%;\n",
              "      cursor: pointer;\n",
              "      display: none;\n",
              "      fill: #1967D2;\n",
              "      height: 32px;\n",
              "      padding: 0 0 0 0;\n",
              "      width: 32px;\n",
              "    }\n",
              "\n",
              "    .colab-df-convert:hover {\n",
              "      background-color: #E2EBFA;\n",
              "      box-shadow: 0px 1px 2px rgba(60, 64, 67, 0.3), 0px 1px 3px 1px rgba(60, 64, 67, 0.15);\n",
              "      fill: #174EA6;\n",
              "    }\n",
              "\n",
              "    [theme=dark] .colab-df-convert {\n",
              "      background-color: #3B4455;\n",
              "      fill: #D2E3FC;\n",
              "    }\n",
              "\n",
              "    [theme=dark] .colab-df-convert:hover {\n",
              "      background-color: #434B5C;\n",
              "      box-shadow: 0px 1px 3px 1px rgba(0, 0, 0, 0.15);\n",
              "      filter: drop-shadow(0px 1px 2px rgba(0, 0, 0, 0.3));\n",
              "      fill: #FFFFFF;\n",
              "    }\n",
              "  </style>\n",
              "\n",
              "      <script>\n",
              "        const buttonEl =\n",
              "          document.querySelector('#df-00cc757e-e193-4cde-9136-9dc39c0c7704 button.colab-df-convert');\n",
              "        buttonEl.style.display =\n",
              "          google.colab.kernel.accessAllowed ? 'block' : 'none';\n",
              "\n",
              "        async function convertToInteractive(key) {\n",
              "          const element = document.querySelector('#df-00cc757e-e193-4cde-9136-9dc39c0c7704');\n",
              "          const dataTable =\n",
              "            await google.colab.kernel.invokeFunction('convertToInteractive',\n",
              "                                                     [key], {});\n",
              "          if (!dataTable) return;\n",
              "\n",
              "          const docLinkHtml = 'Like what you see? Visit the ' +\n",
              "            '<a target=\"_blank\" href=https://colab.research.google.com/notebooks/data_table.ipynb>data table notebook</a>'\n",
              "            + ' to learn more about interactive tables.';\n",
              "          element.innerHTML = '';\n",
              "          dataTable['output_type'] = 'display_data';\n",
              "          await google.colab.output.renderOutput(dataTable, element);\n",
              "          const docLink = document.createElement('div');\n",
              "          docLink.innerHTML = docLinkHtml;\n",
              "          element.appendChild(docLink);\n",
              "        }\n",
              "      </script>\n",
              "    </div>\n",
              "  </div>\n",
              "  "
            ]
          },
          "metadata": {},
          "execution_count": 149
        }
      ],
      "source": [
        "import pandas as pd\n",
        "df = pd.read_csv('lienminh.csv')\n",
        "df.head()"
      ]
    },
    {
      "cell_type": "code",
      "execution_count": 150,
      "metadata": {
        "id": "HSheQlJZLwRV"
      },
      "outputs": [],
      "source": [
        "killsDiff = df['killsDiff'].values\n",
        "minionsKilledDiff = df['minionsKilledDiff'].values\n",
        "wardPlacedDiff = df['wardPlacedDiff'].values\n",
        "firstBlood = df['firstBlood'].values\n",
        "heralds = df['heralds'].values\n",
        "dragons = df['dragons'].values\n",
        "\n",
        "teamWins = df['teamWins'].values"
      ]
    },
    {
      "cell_type": "markdown",
      "metadata": {
        "id": "gqHzxTHvLwRW"
      },
      "source": [
        "### Analyse xíu"
      ]
    },
    {
      "cell_type": "code",
      "execution_count": 151,
      "metadata": {
        "id": "IMoE9KWTLwRW",
        "colab": {
          "base_uri": "https://localhost:8080/",
          "height": 298
        },
        "outputId": "6fe4f760-e7b7-44ed-b74b-d8a1771ebf67"
      },
      "outputs": [
        {
          "output_type": "execute_result",
          "data": {
            "text/plain": [
              "<matplotlib.legend.Legend at 0x7f7276797790>"
            ]
          },
          "metadata": {},
          "execution_count": 151
        },
        {
          "output_type": "display_data",
          "data": {
            "text/plain": [
              "<Figure size 432x288 with 1 Axes>"
            ],
            "image/png": "[encoded data removed]"
          },
          "metadata": {
            "needs_background": "light"
          }
        }
      ],
      "source": [
        "import matplotlib.pyplot as plt\n",
        "## vẽ histogram (phân phối) của chênh lệch mạng hạ gục khi từng đội thắng\n",
        "_ = plt.hist(killsDiff[teamWins=='blue'], bins=100, label='blue wins')\n",
        "_ = plt.hist(killsDiff[teamWins=='red'], bins=100, label='red wins')\n",
        "plt.xlabel(\"Số mạng hạ gục\")\n",
        "plt.ylabel(\"Số trận đấu\")\n",
        "plt.legend()"
      ]
    },
    {
      "cell_type": "code",
      "execution_count": 152,
      "metadata": {
        "id": "hmZ70GHrLwRX",
        "colab": {
          "base_uri": "https://localhost:8080/"
        },
        "outputId": "46e1ba1a-70d4-45a4-c2bc-df82aef40e60"
      },
      "outputs": [
        {
          "output_type": "execute_result",
          "data": {
            "text/plain": [
              "array([[1.        , 0.20176926],\n",
              "       [0.20176926, 1.        ]])"
            ]
          },
          "metadata": {},
          "execution_count": 152
        }
      ],
      "source": [
        "import numpy as np\n",
        "# tính tương quan tuyến tính (correlation coefficient) giữa  việc hạ gục mạng đầu và chiến thắng\n",
        "np.corrcoef((firstBlood == 'blue').astype(int), (teamWins == 'blue').astype(int))"
      ]
    },
    {
      "cell_type": "markdown",
      "metadata": {
        "id": "W01FwTsCLwRX"
      },
      "source": [
        "## Categorical Naive Bayes\n",
        "\n",
        "Gọi $X$ là một biến thể hiện đội nào có mạng hạ gục đầu tiên, $X$ có không gian mẫu hữu hạn $\\Omega = \\{blue, red\\}$. Ta muốn đoán xem đội nào thắng dựa vào $X$ bằng cách tính $P(B|X)$ và $P(R|X)$, với $B$ và $R$ lần lượt là biến cố blue và red thắng. Ta giả thuyết\n",
        "$$ P(B|X) = \\frac{P(X|B)P(B)}{P(X|B)P(B) + P(X|R)P(R)}, P(R|X) = 1 - P(B|X).$$\n",
        "$P(B)$ và $P(R)$ là xác suất tiên nghiệm, ta xem như hai tỉ lệ hai đội thắng bằng nhau. \n",
        "\n",
        "Giờ chỉ cần tính $P(X|B)$ và $P(X|R)$."
      ]
    },
    {
      "cell_type": "code",
      "execution_count": 153,
      "metadata": {
        "id": "a1UrJRCrLwRY"
      },
      "outputs": [],
      "source": [
        "## xác suất tiên nghiệm\n",
        "P_blueWins = 0.5\n",
        "P_redWins = 0.5"
      ]
    },
    {
      "cell_type": "code",
      "execution_count": 154,
      "metadata": {
        "id": "SOhGcw1ALwRZ"
      },
      "outputs": [],
      "source": [
        "is_bluefirstBlood = (firstBlood == 'blue').astype(float)\n",
        "\n",
        "## tính P(X|B)\n",
        "P_blueFirstBlood_blueWins  = np.sum(firstBlood[teamWins == 'blue'] == 'blue') / np.sum(teamWins == 'blue')\n",
        "P_blueFirstBlood_blueWins = P_blueFirstBlood_blueWins * is_bluefirstBlood + (1-P_blueFirstBlood_blueWins)*(1-is_bluefirstBlood)\n",
        "P_redFirstBlood_blueWins = 1 - P_blueFirstBlood_blueWins\n",
        "\n",
        "## tính P(X|R)\n",
        "P_blueFirstBlood_redWins = np.sum(firstBlood[teamWins == 'red'] == 'blue') / np.sum(teamWins == 'red')\n",
        "P_blueFirstBlood_redWins = P_blueFirstBlood_redWins * is_bluefirstBlood + (1-P_blueFirstBlood_redWins)*(1-is_bluefirstBlood)"
      ]
    },
    {
      "cell_type": "code",
      "execution_count": 155,
      "metadata": {
        "id": "qq-Sv7FNLwRZ",
        "colab": {
          "base_uri": "https://localhost:8080/"
        },
        "outputId": "c42c335e-83c5-482f-c929-a35b9c850b1a"
      },
      "outputs": [
        {
          "output_type": "stream",
          "name": "stdout",
          "text": [
            "0.6008705334548031\n"
          ]
        }
      ],
      "source": [
        "## P(B|X)\n",
        "P_blueWins_blueFirstBlood = P_blueFirstBlood_blueWins * P_blueWins / (P_blueFirstBlood_blueWins * P_blueWins + P_blueFirstBlood_redWins * P_redWins)\n",
        "acc = np.mean((P_blueWins_blueFirstBlood > 0.5) == (teamWins == 'blue'))\n",
        "print(acc)"
      ]
    },
    {
      "cell_type": "code",
      "execution_count": 156,
      "metadata": {
        "id": "VF4w8mxpLwRa",
        "colab": {
          "base_uri": "https://localhost:8080/"
        },
        "outputId": "592ed1f7-b0f1-4112-eb2a-0720d8b0a84a"
      },
      "outputs": [
        {
          "output_type": "execute_result",
          "data": {
            "text/plain": [
              "0.6008705334548031"
            ]
          },
          "metadata": {},
          "execution_count": 156
        }
      ],
      "source": [
        "## Dùng sklearn\n",
        "from sklearn.naive_bayes import CategoricalNB\n",
        "blueFirstBlood_float = (firstBlood.reshape(-1,1) == 'blue').astype(float)\n",
        "nb = CategoricalNB(alpha=1.0e-10).fit(blueFirstBlood_float, teamWins)\n",
        "np.mean(teamWins == nb.predict(blueFirstBlood_float))"
      ]
    },
    {
      "cell_type": "markdown",
      "metadata": {
        "id": "Ij8liMbvLwRa"
      },
      "source": [
        "## Gaussian Naive Bayes\n",
        "\n",
        "Gọi $X$ là biến thể hiện chênh lệnh mạng hạ gục. Ta muốn đoán xem đội nào thắng dựa vào $X$ bằng cách tính $P(B|X)$ và $P(R|X)$. \n",
        "$$ P(B|X) = \\frac{P(X|B)P(B)}{P(X|B)P(B) + P(X|R)P(R)}, P(R|X) = 1 - P(B|X).$$\n",
        "Ta xấp xỉ $P(X|B)$ có phân phối Gauss: \n",
        "$$P(X=x|B) = \\frac{1}{\\sqrt{2\\pi}  \\sigma} e^{-\\frac{(x- \\mu)^2}{2  \\sigma^2}}$$\n",
        "với $ \\mu$ và $ \\sigma$ là trung bình và độ lệch chuẩn của mạng chênh lệch khi Blue thắng\n",
        "$$( \\mu, \\sigma) = \\left( \\frac{1}{n}\\sum_{i, \\text{blue wins}}{x_i}, \\sqrt{\\frac{1}{n} \\sum_{i, \\text{blue wins}} (x_i -  \\mu) ^2}\\right)$$\n",
        "\n",
        "$P(X|R)$ xấp xỉ tương tự."
      ]
    },
    {
      "cell_type": "code",
      "execution_count": 157,
      "metadata": {
        "id": "zTuZsZiGLwRa"
      },
      "outputs": [],
      "source": [
        "## xác suất tiên nghiệm\n",
        "P_blueWins = 0.5\n",
        "P_redWins = 0.5\n",
        "\n",
        "## tính tham số\n",
        "killsDiff_mean_blueWins = np.mean(killsDiff[teamWins == 'blue'])\n",
        "killsDiff_std_blueWins = np.std(killsDiff[teamWins == 'blue'])\n",
        "\n",
        "killsDiff_mean_redWins = np.mean(killsDiff[teamWins == 'red'])\n",
        "killsDiff_std_redWins = np.std(killsDiff[teamWins == 'red'])\n",
        "\n",
        "def normal(x, mean, std):\n",
        "    return 1/(np.sqrt(2*np.pi)*std)*np.exp(-np.square(x-mean)/(2*np.square(std)))\n",
        "\n",
        "## P(X|B) và P(X|R)\n",
        "P_killsDiff_blueWins = normal(killsDiff, killsDiff_mean_blueWins, killsDiff_std_blueWins)\n",
        "P_killsDiff_redWins = normal(killsDiff, killsDiff_mean_redWins, killsDiff_std_redWins)"
      ]
    },
    {
      "cell_type": "code",
      "execution_count": 158,
      "metadata": {
        "id": "WvHzHqK0LwRb",
        "colab": {
          "base_uri": "https://localhost:8080/"
        },
        "outputId": "5f22edf4-d54b-4f11-b823-9e6570a086e7"
      },
      "outputs": [
        {
          "output_type": "execute_result",
          "data": {
            "text/plain": [
              "0.7042210750075919"
            ]
          },
          "metadata": {},
          "execution_count": 158
        }
      ],
      "source": [
        "## P(B|X)\n",
        "P_blueWins_killsDiff = P_killsDiff_blueWins * P_blueWins / (P_killsDiff_blueWins * P_blueWins + P_killsDiff_redWins * P_redWins)\n",
        "## accuracy\n",
        "acc = np.mean((P_blueWins_killsDiff > 0.5) == (teamWins == 'blue'))\n",
        "acc"
      ]
    },
    {
      "cell_type": "code",
      "execution_count": 159,
      "metadata": {
        "id": "7FCGTUU3LwRb",
        "colab": {
          "base_uri": "https://localhost:8080/"
        },
        "outputId": "4efd3cc0-1953-468f-eeb7-e31a0f7fe0af"
      },
      "outputs": [
        {
          "output_type": "execute_result",
          "data": {
            "text/plain": [
              "0.7042210750075919"
            ]
          },
          "metadata": {},
          "execution_count": 159
        }
      ],
      "source": [
        "## Dùng sklearn\n",
        "from sklearn.naive_bayes import GaussianNB\n",
        "nb = GaussianNB().fit(killsDiff.reshape(-1,1), teamWins)\n",
        "np.mean(teamWins == nb.predict(killsDiff.reshape(-1,1)))"
      ]
    },
    {
      "cell_type": "code",
      "execution_count": 160,
      "metadata": {
        "id": "Jp5Bk3X5LwRb"
      },
      "outputs": [],
      "source": [
        "## xác suất tiên nghiệm\n",
        "P_blueWins = 0.5\n",
        "P_redWins = 0.5\n",
        "\n",
        "## tính tham số\n",
        "minionsKilledDiff_mean_blueWins = np.mean(minionsKilledDiff[teamWins == 'blue'])\n",
        "minionsKilledDiff_std_blueWins = np.std(minionsKilledDiff[teamWins == 'blue'])\n",
        "\n",
        "minionsKilledDiff_mean_redWins = np.mean(minionsKilledDiff[teamWins == 'red'])\n",
        "minionsKilledDiff_std_redWins = np.std(minionsKilledDiff[teamWins == 'red'])\n",
        "\n",
        "def normal(x, mean, std):\n",
        "    return 1/(np.sqrt(2*np.pi)*std)*np.exp(-np.square(x-mean)/(2*np.square(std)))\n",
        "\n",
        "## P(X|B) và P(X|R)\n",
        "P_minionsKilledDiff_blueWins = normal(minionsKilledDiff, minionsKilledDiff_mean_blueWins, minionsKilledDiff_std_blueWins)\n",
        "P_minionsKilledDiff_redWins = normal(minionsKilledDiff, minionsKilledDiff_mean_redWins, minionsKilledDiff_std_redWins)"
      ]
    },
    {
      "cell_type": "code",
      "execution_count": 161,
      "metadata": {
        "id": "dZv5sVG3LwRc",
        "colab": {
          "base_uri": "https://localhost:8080/"
        },
        "outputId": "4e1ca39b-69d1-484f-92c7-34c88ccfa1d1"
      },
      "outputs": [
        {
          "output_type": "execute_result",
          "data": {
            "text/plain": [
              "0.6263791881769409"
            ]
          },
          "metadata": {},
          "execution_count": 161
        }
      ],
      "source": [
        "## P(B|X)\n",
        "P_blueWins_minionsKilledDiff = P_minionsKilledDiff_blueWins * P_blueWins / (P_minionsKilledDiff_blueWins * P_blueWins + P_minionsKilledDiff_redWins * P_redWins)\n",
        "## accuracy\n",
        "acc = np.mean((P_blueWins_minionsKilledDiff > 0.5) == (teamWins == 'blue'))\n",
        "acc"
      ]
    },
    {
      "cell_type": "code",
      "execution_count": 162,
      "metadata": {
        "id": "cbgp9vACLwRc",
        "colab": {
          "base_uri": "https://localhost:8080/"
        },
        "outputId": "a79d7528-8c47-4151-a204-70511684d884"
      },
      "outputs": [
        {
          "output_type": "execute_result",
          "data": {
            "text/plain": [
              "0.6263791881769409"
            ]
          },
          "metadata": {},
          "execution_count": 162
        }
      ],
      "source": [
        "## Dùng sklearn\n",
        "from sklearn.naive_bayes import GaussianNB\n",
        "nb = GaussianNB().fit(minionsKilledDiff.reshape(-1,1), teamWins)\n",
        "np.mean(teamWins == nb.predict(minionsKilledDiff.reshape(-1,1)))"
      ]
    },
    {
      "cell_type": "markdown",
      "metadata": {
        "id": "DAvlM5qxLwRc"
      },
      "source": [
        "## Bài tập\n",
        "\n",
        "Hãy xây dựng mô hình Naive Bayes sử dụng tất các cả thông tin mà dữ liệu cho:\n",
        "- killsDiff, minionsKilledDiff, wardPlacedDiff: xấp xỉ bằng phân mối normal\n",
        "- firstBlood, heralds, dragons: xấp xỉ bằng phân phối category\n",
        "\n",
        "Note: kết quả không nhất thiết tốt hơn, quan trọng phải đúng\n",
        "\n"
      ]
    },
    {
      "cell_type": "code",
      "execution_count": 163,
      "metadata": {
        "id": "3Ww1mgEknsQ4"
      },
      "outputs": [],
      "source": [
        "## xác suất tiên nghiệm\n",
        "P_blueWins = 0.5\n",
        "P_redWins = 0.5\n",
        "\n",
        "## tính tham số\n",
        "killsDiff_mean_blueWins = np.mean(killsDiff[teamWins == 'blue'])\n",
        "killsDiff_std_blueWins = np.std(killsDiff[teamWins == 'blue'])\n",
        "\n",
        "killsDiff_mean_redWins = np.mean(killsDiff[teamWins == 'red'])\n",
        "killsDiff_std_redWins = np.std(killsDiff[teamWins == 'red'])\n",
        "\n",
        "def normal(x, mean, std):\n",
        "    return 1 / (np.sqrt(2 * np.pi) * std) * np.exp(-np.square(x - mean)/(2 * np.square(std)))\n",
        "\n",
        "## P(X|B) và P(X|R)\n",
        "P_killsDiff_blueWins = normal(killsDiff, killsDiff_mean_blueWins, killsDiff_std_blueWins)\n",
        "P_killsDiff_redWins = normal(killsDiff, killsDiff_mean_redWins, killsDiff_std_redWins)"
      ]
    },
    {
      "cell_type": "code",
      "execution_count": 164,
      "metadata": {
        "id": "tpPDxVsXnsRU",
        "colab": {
          "base_uri": "https://localhost:8080/"
        },
        "outputId": "48c8bcfb-143f-4a21-9d48-54e0e7285173"
      },
      "outputs": [
        {
          "output_type": "stream",
          "name": "stdout",
          "text": [
            "0.7042210750075919\n"
          ]
        }
      ],
      "source": [
        "## P(B|X)\n",
        "P_blueWins_killsDiff = P_killsDiff_blueWins * P_blueWins / (P_killsDiff_blueWins * P_blueWins + P_killsDiff_redWins * P_redWins)\n",
        "## accuracy\n",
        "acc = np.mean((P_blueWins_killsDiff > 0.5) == (teamWins == 'blue'))\n",
        "print(acc)\n",
        "if acc > 0.5: \n",
        "  p = [acc]"
      ]
    },
    {
      "cell_type": "code",
      "execution_count": 165,
      "metadata": {
        "id": "_IUXQxHDnsRV",
        "colab": {
          "base_uri": "https://localhost:8080/"
        },
        "outputId": "868551cf-6b0f-4320-de0c-88f52300908f"
      },
      "outputs": [
        {
          "output_type": "stream",
          "name": "stdout",
          "text": [
            "0.7042210750075919\n"
          ]
        }
      ],
      "source": [
        "## Dùng sklearn\n",
        "from sklearn.naive_bayes import GaussianNB\n",
        "nb = GaussianNB().fit(killsDiff.reshape(-1, 1), teamWins)\n",
        "acc = np.mean(teamWins == nb.predict(killsDiff.reshape(-1, 1)))\n",
        "print(acc)\n",
        "if acc > 0.5:\n",
        "  p_sklearn = [acc]"
      ]
    },
    {
      "cell_type": "code",
      "execution_count": 166,
      "metadata": {
        "id": "VPUur701nsRW"
      },
      "outputs": [],
      "source": [
        "## xác suất tiên nghiệm\n",
        "P_blueWins = 0.5\n",
        "P_redWins = 0.5\n",
        "\n",
        "## tính tham số\n",
        "minionsKilledDiff_mean_blueWins = np.mean(minionsKilledDiff[teamWins == 'blue'])\n",
        "minionsKilledDiff_std_blueWins = np.std(minionsKilledDiff[teamWins == 'blue'])\n",
        "\n",
        "minionsKilledDiff_mean_redWins = np.mean(minionsKilledDiff[teamWins == 'red'])\n",
        "minionsKilledDiff_std_redWins = np.std(minionsKilledDiff[teamWins == 'red'])\n",
        "\n",
        "def normal(x, mean, std):\n",
        "    return 1/(np.sqrt(2 * np.pi) * std) * np.exp(-np.square(x - mean)/(2 * np.square(std)))\n",
        "\n",
        "## P(X|B) và P(X|R)\n",
        "P_minionsKilledDiff_blueWins = normal(minionsKilledDiff, minionsKilledDiff_mean_blueWins, minionsKilledDiff_std_blueWins)\n",
        "P_minionsKilledDiff_redWins = normal(minionsKilledDiff, minionsKilledDiff_mean_redWins, minionsKilledDiff_std_redWins)"
      ]
    },
    {
      "cell_type": "code",
      "execution_count": 167,
      "metadata": {
        "id": "AF13ogsLnsRX",
        "colab": {
          "base_uri": "https://localhost:8080/"
        },
        "outputId": "2b6761be-c1db-4cc1-ab25-75dace3da6af"
      },
      "outputs": [
        {
          "output_type": "stream",
          "name": "stdout",
          "text": [
            "0.6263791881769409\n"
          ]
        }
      ],
      "source": [
        "## P(B|X)\n",
        "P_blueWins_minionsKilledDiff = P_minionsKilledDiff_blueWins * P_blueWins / (P_minionsKilledDiff_blueWins * P_blueWins + P_minionsKilledDiff_redWins * P_redWins)\n",
        "## accuracy\n",
        "acc = np.mean((P_blueWins_minionsKilledDiff > 0.5) == (teamWins == 'blue'))\n",
        "print(acc)\n",
        "if acc > 0.5:\n",
        "  p = p + [acc]"
      ]
    },
    {
      "cell_type": "code",
      "execution_count": 168,
      "metadata": {
        "id": "WNROgHNHnsRY",
        "colab": {
          "base_uri": "https://localhost:8080/"
        },
        "outputId": "f56d736f-4d05-43d9-c146-275c99a8ade1"
      },
      "outputs": [
        {
          "output_type": "stream",
          "name": "stdout",
          "text": [
            "0.6263791881769409\n"
          ]
        }
      ],
      "source": [
        "## Dùng sklearn\n",
        "from sklearn.naive_bayes import GaussianNB\n",
        "nb = GaussianNB().fit(minionsKilledDiff.reshape(-1, 1), teamWins)\n",
        "acc = np.mean(teamWins == nb.predict(minionsKilledDiff.reshape(-1, 1)))\n",
        "print(acc)\n",
        "if acc > 0.5:\n",
        "  p_sklearn = p_sklearn + [acc]"
      ]
    },
    {
      "cell_type": "code",
      "execution_count": 169,
      "metadata": {
        "id": "kWYu8AFGn2bv"
      },
      "outputs": [],
      "source": [
        "## xác suất tiên nghiệm\n",
        "P_blueWins = 0.5\n",
        "P_redWins = 0.5\n",
        "\n",
        "## tính tham số\n",
        "wardPlacedDiff_mean_blueWins = np.mean(wardPlacedDiff[teamWins == 'blue'])\n",
        "wardPlacedDiff_std_blueWins = np.std(wardPlacedDiff[teamWins == 'blue'])\n",
        "\n",
        "wardPlacedDiff_mean_redWins = np.mean(wardPlacedDiff[teamWins == 'red'])\n",
        "wardPlacedDiff_std_redWins = np.std(wardPlacedDiff[teamWins == 'red'])\n",
        "\n",
        "def normal(x, mean, std):\n",
        "    return 1/(np.sqrt(2 * np.pi) * std) * np.exp(-np.square(x - mean) / (2 * np.square(std)))\n",
        "\n",
        "## P(X|B) và P(X|R)\n",
        "P_wardPlacedDiff_blueWins = normal(wardPlacedDiff, wardPlacedDiff_mean_blueWins, wardPlacedDiff_std_blueWins)\n",
        "P_wardPlacedDiff_redWins = normal(wardPlacedDiff, wardPlacedDiff_mean_redWins, wardPlacedDiff_std_redWins)"
      ]
    },
    {
      "cell_type": "code",
      "execution_count": 170,
      "metadata": {
        "id": "JHlZdJLxn2bx",
        "colab": {
          "base_uri": "https://localhost:8080/"
        },
        "outputId": "cc82b357-1ba7-4c87-eab0-319e103d78d7"
      },
      "outputs": [
        {
          "output_type": "stream",
          "name": "stdout",
          "text": [
            "0.510881668185039\n"
          ]
        }
      ],
      "source": [
        "## P(B|X)\n",
        "P_blueWins_wardPlacedDiff = P_wardPlacedDiff_blueWins * P_blueWins / (P_wardPlacedDiff_blueWins * P_blueWins + P_wardPlacedDiff_redWins * P_redWins)\n",
        "## accuracy\n",
        "acc = np.mean((P_blueWins_wardPlacedDiff > 0.5) == (teamWins == 'blue'))\n",
        "print(acc)\n",
        "if acc > 0.5:\n",
        "  p = p + [acc]"
      ]
    },
    {
      "cell_type": "code",
      "execution_count": 171,
      "metadata": {
        "id": "Glx9QwPzn2by",
        "colab": {
          "base_uri": "https://localhost:8080/"
        },
        "outputId": "feadbab5-0f91-4c39-a2b8-6cb186179435"
      },
      "outputs": [
        {
          "output_type": "stream",
          "name": "stdout",
          "text": [
            "0.5118939163882984\n"
          ]
        }
      ],
      "source": [
        "## Dùng sklearn\n",
        "from sklearn.naive_bayes import GaussianNB\n",
        "nb = GaussianNB().fit(wardPlacedDiff.reshape(-1, 1), teamWins)\n",
        "acc = np.mean(teamWins == nb.predict(wardPlacedDiff.reshape(-1, 1)))\n",
        "print(acc)\n",
        "if acc > 0.5:\n",
        "  p_sklearn = p_sklearn + [acc]"
      ]
    },
    {
      "cell_type": "code",
      "execution_count": 172,
      "metadata": {
        "id": "6zrQkd2hpCI8"
      },
      "outputs": [],
      "source": [
        "## xác suất tiên nghiệm\n",
        "P_blueWins = 0.5\n",
        "P_redWins = 0.5"
      ]
    },
    {
      "cell_type": "code",
      "execution_count": 173,
      "metadata": {
        "id": "gkiw102ApCI9"
      },
      "outputs": [],
      "source": [
        "is_bluefirstBlood = (firstBlood == 'blue').astype(float)\n",
        "\n",
        "## tính P(X|B)\n",
        "P_blueFirstBlood_blueWins  = np.sum(firstBlood[teamWins == 'blue'] == 'blue') / np.sum(teamWins == 'blue')\n",
        "P_blueFirstBlood_blueWins = P_blueFirstBlood_blueWins * is_bluefirstBlood + (1 - P_blueFirstBlood_blueWins) * (1 - is_bluefirstBlood)\n",
        "P_redFirstBlood_blueWins = 1 - P_blueFirstBlood_blueWins\n",
        "\n",
        "## tính P(X|R)\n",
        "P_blueFirstBlood_redWins = np.sum(firstBlood[teamWins == 'red'] == 'blue') / np.sum(teamWins == 'red')\n",
        "P_blueFirstBlood_redWins = P_blueFirstBlood_redWins * is_bluefirstBlood + (1 - P_blueFirstBlood_redWins) * (1 - is_bluefirstBlood)"
      ]
    },
    {
      "cell_type": "code",
      "execution_count": 174,
      "metadata": {
        "id": "3dctBhFOpCI9",
        "colab": {
          "base_uri": "https://localhost:8080/"
        },
        "outputId": "9e7fb82b-bb0d-41c7-a2c2-f8e977bf4e45"
      },
      "outputs": [
        {
          "output_type": "stream",
          "name": "stdout",
          "text": [
            "0.6008705334548031\n"
          ]
        }
      ],
      "source": [
        "## P(B|X)\n",
        "P_blueWins_blueFirstBlood = P_blueFirstBlood_blueWins * P_blueWins / (P_blueFirstBlood_blueWins * P_blueWins + P_blueFirstBlood_redWins * P_redWins)\n",
        "acc = np.mean((P_blueWins_blueFirstBlood > 0.5) == (teamWins == 'blue'))\n",
        "print(acc)\n",
        "if acc > 0.5:\n",
        "  p = p + [acc]"
      ]
    },
    {
      "cell_type": "code",
      "execution_count": 175,
      "metadata": {
        "id": "Dat-3QeWpCI-",
        "colab": {
          "base_uri": "https://localhost:8080/"
        },
        "outputId": "769a9f3d-c22a-4167-d94f-b5466f00b261"
      },
      "outputs": [
        {
          "output_type": "stream",
          "name": "stdout",
          "text": [
            "0.6008705334548031\n"
          ]
        }
      ],
      "source": [
        "## Dùng sklearn\n",
        "from sklearn.naive_bayes import CategoricalNB\n",
        "blueFirstBlood_float = (firstBlood.reshape(-1,1) == 'blue').astype(float)\n",
        "nb = CategoricalNB(alpha = 1.0e-10).fit(blueFirstBlood_float, teamWins)\n",
        "acc = np.mean(teamWins == nb.predict(blueFirstBlood_float))\n",
        "print(acc)\n",
        "if acc > 0.5:\n",
        "  p_sklearn = p_sklearn + [acc]"
      ]
    },
    {
      "cell_type": "code",
      "execution_count": 176,
      "metadata": {
        "id": "KC_1ufwuqDgc"
      },
      "outputs": [],
      "source": [
        "## xác suất tiên nghiệm\n",
        "P_blueWins = 0.5\n",
        "P_redWins = 0.5"
      ]
    },
    {
      "cell_type": "code",
      "execution_count": 177,
      "metadata": {
        "id": "3YrzHPXoqDgd"
      },
      "outputs": [],
      "source": [
        "is_blueheralds = (heralds == 'blue').astype(float)\n",
        "\n",
        "## tính P(X|B)\n",
        "P_blueheralds_blueWins  = np.sum(heralds[teamWins == 'blue'] == 'blue') / np.sum(teamWins == 'blue')\n",
        "P_blueheralds_blueWins = P_blueheralds_blueWins * is_blueheralds + (1 - P_blueheralds_blueWins) * (1 - is_blueheralds)\n",
        "P_redheralds_blueWins = 1 - P_blueheralds_blueWins\n",
        "\n",
        "## tính P(X|R)\n",
        "P_blueheralds_redWins = np.sum(heralds[teamWins == 'red'] == 'blue') / np.sum(teamWins == 'red')\n",
        "P_blueheralds_redWins = P_blueheralds_redWins * is_blueheralds + (1 - P_blueheralds_redWins) * (1-is_blueheralds)"
      ]
    },
    {
      "cell_type": "code",
      "execution_count": 178,
      "metadata": {
        "id": "fzprwrgJqDge",
        "colab": {
          "base_uri": "https://localhost:8080/"
        },
        "outputId": "e08103ac-f4df-475f-ef3c-05c34951f55a"
      },
      "outputs": [
        {
          "output_type": "stream",
          "name": "stdout",
          "text": [
            "0.5366939973681547\n"
          ]
        }
      ],
      "source": [
        "## P(B|X)\n",
        "P_blueWins_blueheralds = P_blueheralds_blueWins * P_blueWins / (P_blueheralds_blueWins * P_blueWins + P_blueheralds_redWins * P_redWins)\n",
        "acc = np.mean((P_blueWins_blueheralds > 0.5) == (teamWins == 'blue'))\n",
        "print(acc)\n",
        "if acc > 0.5:\n",
        "  p = p + [acc]"
      ]
    },
    {
      "cell_type": "code",
      "execution_count": 179,
      "metadata": {
        "id": "4qH8VKNIqDge",
        "colab": {
          "base_uri": "https://localhost:8080/"
        },
        "outputId": "95550861-660b-49a3-98b5-7412a169255d"
      },
      "outputs": [
        {
          "output_type": "stream",
          "name": "stdout",
          "text": [
            "0.5366939973681547\n"
          ]
        }
      ],
      "source": [
        "## Dùng sklearn\n",
        "from sklearn.naive_bayes import CategoricalNB\n",
        "blueheralds_float = (heralds.reshape(-1, 1) == 'blue').astype(float)\n",
        "nb = CategoricalNB(alpha = 1.0e-10).fit(blueheralds_float, teamWins)\n",
        "acc = np.mean(teamWins == nb.predict(blueheralds_float))\n",
        "print(acc)\n",
        "if acc > 0.5:\n",
        "  p_sklearn = p_sklearn + [acc]"
      ]
    },
    {
      "cell_type": "code",
      "execution_count": 180,
      "metadata": {
        "id": "J1HFgjCnq5FK"
      },
      "outputs": [],
      "source": [
        "## xác suất tiên nghiệm\n",
        "P_blueWins = 0.5\n",
        "P_redWins = 0.5"
      ]
    },
    {
      "cell_type": "code",
      "execution_count": 181,
      "metadata": {
        "id": "4570Q2U8q5FM"
      },
      "outputs": [],
      "source": [
        "is_bluedragons = (dragons == 'blue').astype(float)\n",
        "\n",
        "## tính P(X|B)\n",
        "P_bluedragons_blueWins  = np.sum(dragons[teamWins == 'blue'] == 'blue') / np.sum(teamWins == 'blue')\n",
        "P_bluedragons_blueWins = P_bluedragons_blueWins * is_bluedragons + (1-P_bluedragons_blueWins)*(1-is_bluedragons)\n",
        "P_reddragons_blueWins = 1 - P_bluedragons_blueWins\n",
        "\n",
        "## tính P(X|R)\n",
        "P_bluedragons_redWins = np.sum(dragons[teamWins == 'red'] == 'blue') / np.sum(teamWins == 'red')\n",
        "P_bluedragons_redWins = P_bluedragons_redWins * is_bluedragons + (1-P_bluedragons_redWins) * (1 - is_bluedragons)"
      ]
    },
    {
      "cell_type": "code",
      "execution_count": 182,
      "metadata": {
        "id": "YPIr6eToq5FM",
        "colab": {
          "base_uri": "https://localhost:8080/"
        },
        "outputId": "9b13583c-8f23-4f9b-fd9d-8ec6f2a0441e"
      },
      "outputs": [
        {
          "output_type": "stream",
          "name": "stdout",
          "text": [
            "0.602996254681648\n"
          ]
        }
      ],
      "source": [
        "## P(B|X)\n",
        "P_blueWins_bluedragons = P_bluedragons_blueWins * P_blueWins / (P_bluedragons_blueWins * P_blueWins + P_bluedragons_redWins * P_redWins)\n",
        "acc = np.mean((P_blueWins_bluedragons > 0.5) == (teamWins == 'blue'))\n",
        "print(acc)\n",
        "if acc > 0.5:\n",
        "  p = p + [acc]"
      ]
    },
    {
      "cell_type": "code",
      "execution_count": 183,
      "metadata": {
        "colab": {
          "base_uri": "https://localhost:8080/"
        },
        "id": "zE3zhTnhq5FN",
        "outputId": "ce3a4d6a-25be-4d8e-95db-5e9b935d9ce9"
      },
      "outputs": [
        {
          "output_type": "stream",
          "name": "stdout",
          "text": [
            "0.602996254681648\n"
          ]
        }
      ],
      "source": [
        "## Dùng sklearn\n",
        "from sklearn.naive_bayes import CategoricalNB\n",
        "bluedragons_float = (dragons.reshape(-1, 1) == 'blue').astype(float)\n",
        "nb = CategoricalNB(alpha = 1.0e-10).fit(bluedragons_float, teamWins)\n",
        "acc = np.mean(teamWins == nb.predict(bluedragons_float))\n",
        "print(acc)\n",
        "if acc > 0.5:\n",
        "  p_sklearn = p_sklearn + [acc]"
      ]
    },
    {
      "cell_type": "code",
      "execution_count": 184,
      "metadata": {
        "colab": {
          "base_uri": "https://localhost:8080/"
        },
        "id": "8DCTxrP64HSy",
        "outputId": "67aad071-4647-4f78-c80b-22a22007a90d"
      },
      "outputs": [
        {
          "output_type": "stream",
          "name": "stdout",
          "text": [
            "mo hinh Naive Bayes voi tat ca cac thuoc tinh: 0.7042210750075919\n"
          ]
        }
      ],
      "source": [
        "print('mo hinh Naive Bayes voi tat ca cac thuoc tinh:', max(p))"
      ]
    },
    {
      "cell_type": "code",
      "execution_count": 185,
      "metadata": {
        "colab": {
          "base_uri": "https://localhost:8080/"
        },
        "id": "CeIXgP8psgra",
        "outputId": "b88a05e9-e461-40bc-bc11-179064e16313"
      },
      "outputs": [
        {
          "output_type": "stream",
          "name": "stdout",
          "text": [
            "mo hinh Naive Bayes voi tat ca cac thuoc tinh theo sklearn: 0.7042210750075919\n"
          ]
        }
      ],
      "source": [
        "print('mo hinh Naive Bayes voi tat ca cac thuoc tinh theo sklearn:', max(p_sklearn))"
      ]
    }
  ],
  "metadata": {
    "colab": {
      "collapsed_sections": [],
      "name": "NMMH_TH4_19110482",
      "provenance": []
    },
    "kernelspec": {
      "display_name": "Python 3 (ipykernel)",
      "language": "python",
      "name": "python3"
    },
    "language_info": {
      "codemirror_mode": {
        "name": "ipython",
        "version": 3
      },
      "file_extension": ".py",
      "mimetype": "text/x-python",
      "name": "python",
      "nbconvert_exporter": "python",
      "pygments_lexer": "ipython3",
      "version": "3.8.11"
    }
  },
  "nbformat": 4,
  "nbformat_minor": 0
}