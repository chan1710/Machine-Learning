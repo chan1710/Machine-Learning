{
  "cells": [
    {
      "cell_type": "markdown",
      "source": [
        "## Môn: Nhập môn máy học\n",
        " * Bài thực hành số 3\n",
        " * Sinh viên: Huỳnh Thị Bảo Trân\n",
        " * MSSV: 19110482"
      ],
      "metadata": {
        "id": "3P5U1jEW1thz"
      }
    },
    {
      "cell_type": "markdown",
      "metadata": {
        "id": "WeToHSlQHOHs"
      },
      "source": [
        "# Lab 03: Logistic Regression"
      ]
    },
    {
      "cell_type": "markdown",
      "metadata": {
        "id": "Hhofc4XfHOHx"
      },
      "source": [
        "### 1.1 Data\n",
        "\n",
        "Data dùng trong bài thực hành này gồm chiều dài dọc gân lá ($x_1$) và chiều ngang gân lá ($x_2$) và loại lá ($y$, có giá trị 0 hoặc 1).\n"
      ]
    },
    {
      "cell_type": "code",
      "execution_count": 161,
      "metadata": {
        "colab": {
          "base_uri": "https://localhost:8080/",
          "height": 206
        },
        "id": "8tag-ayYHOHx",
        "outputId": "86919c1c-4f59-4082-d510-a75abb6bb087"
      },
      "outputs": [
        {
          "output_type": "execute_result",
          "data": {
            "text/plain": [
              "          x1         x2  label\n",
              "0  56.130749  61.006677      0\n",
              "1  49.871157  43.687531      0\n",
              "2  53.868769  62.477624      0\n",
              "3  53.558846  52.686585      0\n",
              "4  55.382830  52.925488      0"
            ],
            "text/html": [
              "\n",
              "  <div id=\"df-fcef13df-9afc-48a8-9298-94a223a8d76f\">\n",
              "    <div class=\"colab-df-container\">\n",
              "      <div>\n",
              "<style scoped>\n",
              "    .dataframe tbody tr th:only-of-type {\n",
              "        vertical-align: middle;\n",
              "    }\n",
              "\n",
              "    .dataframe tbody tr th {\n",
              "        vertical-align: top;\n",
              "    }\n",
              "\n",
              "    .dataframe thead th {\n",
              "        text-align: right;\n",
              "    }\n",
              "</style>\n",
              "<table border=\"1\" class=\"dataframe\">\n",
              "  <thead>\n",
              "    <tr style=\"text-align: right;\">\n",
              "      <th></th>\n",
              "      <th>x1</th>\n",
              "      <th>x2</th>\n",
              "      <th>label</th>\n",
              "    </tr>\n",
              "  </thead>\n",
              "  <tbody>\n",
              "    <tr>\n",
              "      <th>0</th>\n",
              "      <td>56.130749</td>\n",
              "      <td>61.006677</td>\n",
              "      <td>0</td>\n",
              "    </tr>\n",
              "    <tr>\n",
              "      <th>1</th>\n",
              "      <td>49.871157</td>\n",
              "      <td>43.687531</td>\n",
              "      <td>0</td>\n",
              "    </tr>\n",
              "    <tr>\n",
              "      <th>2</th>\n",
              "      <td>53.868769</td>\n",
              "      <td>62.477624</td>\n",
              "      <td>0</td>\n",
              "    </tr>\n",
              "    <tr>\n",
              "      <th>3</th>\n",
              "      <td>53.558846</td>\n",
              "      <td>52.686585</td>\n",
              "      <td>0</td>\n",
              "    </tr>\n",
              "    <tr>\n",
              "      <th>4</th>\n",
              "      <td>55.382830</td>\n",
              "      <td>52.925488</td>\n",
              "      <td>0</td>\n",
              "    </tr>\n",
              "  </tbody>\n",
              "</table>\n",
              "</div>\n",
              "      <button class=\"colab-df-convert\" onclick=\"convertToInteractive('df-fcef13df-9afc-48a8-9298-94a223a8d76f')\"\n",
              "              title=\"Convert this dataframe to an interactive table.\"\n",
              "              style=\"display:none;\">\n",
              "        \n",
              "  <svg xmlns=\"http://www.w3.org/2000/svg\" height=\"24px\"viewBox=\"0 0 24 24\"\n",
              "       width=\"24px\">\n",
              "    <path d=\"M0 0h24v24H0V0z\" fill=\"none\"/>\n",
              "    <path d=\"M18.56 5.44l.94 2.06.94-2.06 2.06-.94-2.06-.94-.94-2.06-.94 2.06-2.06.94zm-11 1L8.5 8.5l.94-2.06 2.06-.94-2.06-.94L8.5 2.5l-.94 2.06-2.06.94zm10 10l.94 2.06.94-2.06 2.06-.94-2.06-.94-.94-2.06-.94 2.06-2.06.94z\"/><path d=\"M17.41 7.96l-1.37-1.37c-.4-.4-.92-.59-1.43-.59-.52 0-1.04.2-1.43.59L10.3 9.45l-7.72 7.72c-.78.78-.78 2.05 0 2.83L4 21.41c.39.39.9.59 1.41.59.51 0 1.02-.2 1.41-.59l7.78-7.78 2.81-2.81c.8-.78.8-2.07 0-2.86zM5.41 20L4 18.59l7.72-7.72 1.47 1.35L5.41 20z\"/>\n",
              "  </svg>\n",
              "      </button>\n",
              "      \n",
              "  <style>\n",
              "    .colab-df-container {\n",
              "      display:flex;\n",
              "      flex-wrap:wrap;\n",
              "      gap: 12px;\n",
              "    }\n",
              "\n",
              "    .colab-df-convert {\n",
              "      background-color: #E8F0FE;\n",
              "      border: none;\n",
              "      border-radius: 50%;\n",
              "      cursor: pointer;\n",
              "      display: none;\n",
              "      fill: #1967D2;\n",
              "      height: 32px;\n",
              "      padding: 0 0 0 0;\n",
              "      width: 32px;\n",
              "    }\n",
              "\n",
              "    .colab-df-convert:hover {\n",
              "      background-color: #E2EBFA;\n",
              "      box-shadow: 0px 1px 2px rgba(60, 64, 67, 0.3), 0px 1px 3px 1px rgba(60, 64, 67, 0.15);\n",
              "      fill: #174EA6;\n",
              "    }\n",
              "\n",
              "    [theme=dark] .colab-df-convert {\n",
              "      background-color: #3B4455;\n",
              "      fill: #D2E3FC;\n",
              "    }\n",
              "\n",
              "    [theme=dark] .colab-df-convert:hover {\n",
              "      background-color: #434B5C;\n",
              "      box-shadow: 0px 1px 3px 1px rgba(0, 0, 0, 0.15);\n",
              "      filter: drop-shadow(0px 1px 2px rgba(0, 0, 0, 0.3));\n",
              "      fill: #FFFFFF;\n",
              "    }\n",
              "  </style>\n",
              "\n",
              "      <script>\n",
              "        const buttonEl =\n",
              "          document.querySelector('#df-fcef13df-9afc-48a8-9298-94a223a8d76f button.colab-df-convert');\n",
              "        buttonEl.style.display =\n",
              "          google.colab.kernel.accessAllowed ? 'block' : 'none';\n",
              "\n",
              "        async function convertToInteractive(key) {\n",
              "          const element = document.querySelector('#df-fcef13df-9afc-48a8-9298-94a223a8d76f');\n",
              "          const dataTable =\n",
              "            await google.colab.kernel.invokeFunction('convertToInteractive',\n",
              "                                                     [key], {});\n",
              "          if (!dataTable) return;\n",
              "\n",
              "          const docLinkHtml = 'Like what you see? Visit the ' +\n",
              "            '<a target=\"_blank\" href=https://colab.research.google.com/notebooks/data_table.ipynb>data table notebook</a>'\n",
              "            + ' to learn more about interactive tables.';\n",
              "          element.innerHTML = '';\n",
              "          dataTable['output_type'] = 'display_data';\n",
              "          await google.colab.output.renderOutput(dataTable, element);\n",
              "          const docLink = document.createElement('div');\n",
              "          docLink.innerHTML = docLinkHtml;\n",
              "          element.appendChild(docLink);\n",
              "        }\n",
              "      </script>\n",
              "    </div>\n",
              "  </div>\n",
              "  "
            ]
          },
          "metadata": {},
          "execution_count": 161
        }
      ],
      "source": [
        "import numpy as np\n",
        "import matplotlib.pyplot as plt\n",
        "import pandas as pd\n",
        "\n",
        "train = pd.read_csv('train.csv')\n",
        "train.head()"
      ]
    },
    {
      "cell_type": "code",
      "execution_count": 162,
      "metadata": {
        "colab": {
          "base_uri": "https://localhost:8080/",
          "height": 531
        },
        "id": "bSvW87sgHOHz",
        "outputId": "6b846ef9-111f-4982-8616-fcc9f62e25fe"
      },
      "outputs": [
        {
          "output_type": "execute_result",
          "data": {
            "text/plain": [
              "<matplotlib.collections.PathCollection at 0x7f2319de4710>"
            ]
          },
          "metadata": {},
          "execution_count": 162
        },
        {
          "output_type": "display_data",
          "data": {
            "text/plain": [
              "<Figure size 432x288 with 1 Axes>"
            ],
            "image/png": "[encoded data removed]"
          },
          "metadata": {
            "needs_background": "light"
          }
        },
        {
          "output_type": "display_data",
          "data": {
            "text/plain": [
              "<Figure size 432x288 with 1 Axes>"
            ],
            "image/png": "[encoded data removed]"
          },
          "metadata": {
            "needs_background": "light"
          }
        }
      ],
      "source": [
        "x1_train = train['x1'].values\n",
        "x2_train = train['x2'].values\n",
        "y_train = train['label'].values\n",
        "\n",
        "plt.scatter(x1_train[y_train == 0], x2_train[y_train == 0])\n",
        "plt.scatter(x1_train[y_train == 1], x2_train[y_train == 1])\n",
        "\n",
        "\n",
        "plt.figure()\n",
        "valid = pd.read_csv('valid.csv')\n",
        "x1_valid = valid['x1'].values\n",
        "x2_valid = valid['x2'].values\n",
        "y_valid = valid['label'].values\n",
        "plt.scatter(x1_valid[y_valid == 0], x2_valid[y_valid == 0])\n",
        "plt.scatter(x1_valid[y_valid == 1], x2_valid[y_valid == 1])\n"
      ]
    },
    {
      "cell_type": "markdown",
      "metadata": {
        "id": "BZFt21lKHOHz"
      },
      "source": [
        "### 1.2 Binary Logistic Linear Regression\n",
        "Ta muốn dựa vào 2 chiều của lá, phân biệt giữa loại lá 1 và loại lá 2. Cụ thể, với $x = (x_1,x_2, 1)$ là input, ta muốn đoán một phân phối\n",
        "$$ P_\\theta(c|x),c = 0, 1 $$\n",
        "với $\\theta = (\\theta_1, \\theta_2, \\theta_3)$ là tham số.\n",
        "\n",
        "Trong binary losgistic linear regression, ta giả thuyết\n",
        "$$ P_\\theta(c=0|x) = \\frac{1}{1+ e^{-\\theta_1 x_1 - \\theta_2 x_2 - \\theta_3}} = \\frac{1}{1+ e^{-\\theta \\cdot x}} \\text{ và } P_\\theta(c=1|x) = 1 - P_\\theta(c=0|x)$$\n",
        "\n",
        "Giờ cần tìm $\\theta = (\\theta_1, \\theta_2, \\theta_3)$ sao cho \n",
        "$$ L = \\frac{1}{N} \\sum_{x, y} - (1-y) \\log P_\\theta(c=0|x) - y \\log P_\\theta(c=1|x) = \\frac{1}{N} \\sum_{x, y} - (1-y) \\log \\frac{1}{1+ e^{-\\theta \\cdot x}} - y \\log \\frac{e^{-\\theta \\cdot x}}{1+ e^{-\\theta \\cdot x}} $$\n",
        "đạt giá trị nhỏ nhất. \n",
        "\n",
        "Nếu dùng Gradient Descent:\n",
        "$$ \\frac{\\partial L}{\\partial \\theta_1} = \\frac{1}{N} \\sum_{x, y} e^{-\\theta \\cdot x}  \\left( \\frac{1}{1+e^{-\\theta \\cdot x}} - \\frac{y}{e^{-\\theta \\cdot x}}\\right) (-x_1)$$\n",
        "$$ \\frac{\\partial L}{\\partial \\theta_2} = \\frac{1}{N} \\sum_{x, y} e^{-\\theta \\cdot x}  \\left( \\frac{1}{1+e^{-\\theta \\cdot x}} - \\frac{y}{e^{-\\theta \\cdot x}}\\right) (-x_2)$$\n",
        "$$ \\frac{\\partial L}{\\partial \\theta_3} = \\frac{1}{N} \\sum_{x, y} e^{-\\theta \\cdot x}  \\left( \\frac{1}{1+e^{-\\theta \\cdot x}} - \\frac{y}{e^{-\\theta \\cdot x}}\\right) (-1) $$"
      ]
    },
    {
      "cell_type": "code",
      "execution_count": 163,
      "metadata": {
        "id": "I3bvP-lxHOH0"
      },
      "outputs": [],
      "source": [
        "## normalization\n",
        "x1_mean = np.mean(x1_train)\n",
        "x1_std = np.std(x1_train)\n",
        "x2_mean = np.mean(x2_train)\n",
        "x2_std = np.std(x2_train)\n",
        "\n",
        "x1_train = (x1_train - x1_mean)/ x1_std\n",
        "x2_train = (x2_train - x2_mean)/ x2_std\n",
        "\n",
        "x1_valid = (x1_valid - x1_mean)/ x1_std\n",
        "x2_valid = (x2_valid - x2_mean)/ x2_std"
      ]
    },
    {
      "cell_type": "code",
      "execution_count": 164,
      "metadata": {
        "colab": {
          "base_uri": "https://localhost:8080/"
        },
        "id": "3gSuuUt_HOH1",
        "outputId": "f8c91036-35af-4fa2-e48e-1039bb30a4e4"
      },
      "outputs": [
        {
          "output_type": "stream",
          "name": "stdout",
          "text": [
            "Iter 0 - loss 0.6930 - acc 0.8567 - val_loss 0.6931 - val_acc 0.7750\n",
            "Iter 10000 - loss 0.3772 - acc 0.8567 - val_loss 0.4906 - val_acc 0.7750\n",
            "Iter 20000 - loss 0.3462 - acc 0.8567 - val_loss 0.4869 - val_acc 0.7750\n",
            "Iter 30000 - loss 0.3368 - acc 0.8567 - val_loss 0.4921 - val_acc 0.7750\n",
            "Iter 40000 - loss 0.3329 - acc 0.8567 - val_loss 0.4975 - val_acc 0.7750\n",
            "Iter 50000 - loss 0.3310 - acc 0.8567 - val_loss 0.5021 - val_acc 0.7750\n",
            "Iter 60000 - loss 0.3301 - acc 0.8567 - val_loss 0.5057 - val_acc 0.7750\n",
            "Iter 70000 - loss 0.3296 - acc 0.8567 - val_loss 0.5085 - val_acc 0.7800\n",
            "Iter 80000 - loss 0.3293 - acc 0.8567 - val_loss 0.5107 - val_acc 0.7800\n",
            "Iter 90000 - loss 0.3292 - acc 0.8567 - val_loss 0.5124 - val_acc 0.7800\n",
            "Iter 100000 - loss 0.3291 - acc 0.8567 - val_loss 0.5137 - val_acc 0.7750\n",
            "Iter 110000 - loss 0.3290 - acc 0.8567 - val_loss 0.5147 - val_acc 0.7750\n",
            "Iter 120000 - loss 0.3290 - acc 0.8567 - val_loss 0.5155 - val_acc 0.7750\n",
            "Iter 130000 - loss 0.3290 - acc 0.8567 - val_loss 0.5161 - val_acc 0.7750\n",
            "Iter 140000 - loss 0.3290 - acc 0.8567 - val_loss 0.5166 - val_acc 0.7750\n",
            "Iter 150000 - loss 0.3290 - acc 0.8567 - val_loss 0.5169 - val_acc 0.7750\n",
            "Iter 160000 - loss 0.3290 - acc 0.8567 - val_loss 0.5172 - val_acc 0.7750\n",
            "Iter 170000 - loss 0.3290 - acc 0.8567 - val_loss 0.5174 - val_acc 0.7750\n",
            "Iter 180000 - loss 0.3290 - acc 0.8567 - val_loss 0.5176 - val_acc 0.7750\n",
            "Iter 190000 - loss 0.3290 - acc 0.8567 - val_loss 0.5177 - val_acc 0.7750\n",
            "Iter 200000 - loss 0.3290 - acc 0.8567 - val_loss 0.5178 - val_acc 0.7750\n",
            "Iter 210000 - loss 0.3290 - acc 0.8567 - val_loss 0.5179 - val_acc 0.7750\n",
            "Iter 220000 - loss 0.3290 - acc 0.8567 - val_loss 0.5180 - val_acc 0.7750\n",
            "Iter 230000 - loss 0.3290 - acc 0.8567 - val_loss 0.5180 - val_acc 0.7750\n",
            "Iter 240000 - loss 0.3290 - acc 0.8567 - val_loss 0.5181 - val_acc 0.7750\n",
            "Iter 250000 - loss 0.3290 - acc 0.8567 - val_loss 0.5181 - val_acc 0.7750\n",
            "Iter 260000 - loss 0.3290 - acc 0.8567 - val_loss 0.5181 - val_acc 0.7750\n",
            "Iter 270000 - loss 0.3290 - acc 0.8567 - val_loss 0.5181 - val_acc 0.7750\n",
            "Iter 280000 - loss 0.3290 - acc 0.8567 - val_loss 0.5181 - val_acc 0.7750\n",
            "Iter 290000 - loss 0.3290 - acc 0.8567 - val_loss 0.5182 - val_acc 0.7750\n",
            "Accuracy on train: 0.8566666666666667\n",
            "Accuracy on valid: 0.78\n"
          ]
        }
      ],
      "source": [
        "theta1, theta2, theta3 = 0.0, 0.0, 0.0\n",
        "lrn_rate = 0.001\n",
        "n_iters = 300000\n",
        "\n",
        "best_theta = None      #biến để lưu tham số mà có accuracy tốt nhất trên tập valid\n",
        "best_val_acc = -1.0\n",
        "\n",
        "for ii in range(n_iters):\n",
        "    exppp = np.exp(-theta1*x1_train -theta2*x2_train-theta3)\n",
        "    common = exppp*(1/(1+exppp) - y_train/exppp)\n",
        "    dL_dtheta1 = np.mean(common*(-x1_train))\n",
        "    dL_dtheta2 = np.mean(common*(-x2_train))\n",
        "    dL_dtheta3 = np.mean(common*(-1))\n",
        "    theta1 = theta1 - lrn_rate * dL_dtheta1\n",
        "    theta2 = theta2 - lrn_rate * dL_dtheta2\n",
        "    theta3 = theta3 - lrn_rate * dL_dtheta3\n",
        "    \n",
        "    if ii % 10000 == 0:\n",
        "        ## predict\n",
        "        pred_proba_train = 1/(1 + np.exp(-theta1 * x1_train - theta2 * x2_train - theta3))            ## xác suất label 0\n",
        "        train_loss = np.mean(-(1 - y_train) * np.log(pred_proba_train) - y_train*np.log(1 - pred_proba_train))\n",
        "        train_acc = np.mean(y_train == (pred_proba_train < 0.5).astype(int))                ## convert xác suất đoán đc ra nhãn rồi tính accuracy\n",
        "        \n",
        "        \n",
        "        pred_proba_valid = 1/(1 + np.exp(-theta1 * x1_valid - theta2 * x2_valid - theta3))\n",
        "        valid_loss = np.mean(-(1 - y_valid)*np.log(pred_proba_valid) - y_valid * np.log(1 - pred_proba_valid))\n",
        "        valid_acc = np.mean(y_valid == (pred_proba_valid < 0.5).astype(int))\n",
        "        \n",
        "        if valid_acc > best_val_acc:\n",
        "            ## lưu tham số tốt nhất\n",
        "            best_val_acc = valid_acc\n",
        "            best_theta = theta1, theta2, theta3\n",
        "        \n",
        "        print('Iter {} - loss {:.4f} - acc {:.4f} - val_loss {:.4f} - val_acc {:.4f}'.format(ii, train_loss, train_acc, valid_loss, valid_acc))\n",
        "\n",
        "theta1, theta2, theta3 = best_theta\n",
        "train_acc = np.mean(y_train == (1/(1+np.exp(-theta1*x1_train-theta2*x2_train-theta3)) < 0.5).astype(int))\n",
        "valid_acc = np.mean(y_valid == (1/(1+np.exp(-theta1*x1_valid-theta2*x2_valid-theta3)) < 0.5).astype(int))\n",
        "print('Accuracy on train:', train_acc)\n",
        "print('Accuracy on valid:', valid_acc)"
      ]
    },
    {
      "cell_type": "markdown",
      "metadata": {
        "id": "AATZq9P1HOH2"
      },
      "source": [
        "### 1.3 Sklearn"
      ]
    },
    {
      "cell_type": "code",
      "execution_count": 165,
      "metadata": {
        "id": "SKzvfzn3HOH3",
        "colab": {
          "base_uri": "https://localhost:8080/"
        },
        "outputId": "002e94b2-6ee0-43e5-aadd-aa082329aa56"
      },
      "outputs": [
        {
          "output_type": "stream",
          "name": "stdout",
          "text": [
            "Sklearn accuracy on train: 0.8566666666666667\n",
            "Sklearn accuracy on valid: 0.78\n"
          ]
        }
      ],
      "source": [
        "from sklearn.linear_model import LogisticRegression\n",
        "\n",
        "X_train = np.concatenate([x1_train.reshape(-1, 1), x2_train.reshape(-1, 1)], axis = -1)\n",
        "X_valid = np.concatenate([x1_valid.reshape(-1, 1), x2_valid.reshape(-1, 1)], axis = -1)\n",
        "\n",
        "lr = LogisticRegression().fit(X_train, y_train)\n",
        "print('Sklearn accuracy on train:', np.mean(y_train == lr.predict(X_train)))\n",
        "print('Sklearn accuracy on valid:', np.mean(y_valid == lr.predict(X_valid)))"
      ]
    },
    {
      "cell_type": "markdown",
      "metadata": {
        "id": "E_LVZLo9HOH3"
      },
      "source": [
        "## 2 Bài tập\n"
      ]
    },
    {
      "cell_type": "markdown",
      "metadata": {
        "id": "H1LAE__iHOH4"
      },
      "source": [
        "### 2.1 Multi-class Logistic Linear Regression"
      ]
    },
    {
      "cell_type": "markdown",
      "metadata": {
        "id": "ko1e0mb5HOH4"
      },
      "source": [
        "Ta muốn dựa vào 2 chiều của lá, phân biệt giữa 3 loại lá. Cụ thể, với  $x=(x_1, x_2, 1)$  là input, ta muốn đoán một phân phối\n",
        "$$ P_\\theta(c|x), c=0,1,2 $$\n",
        "\n",
        "Đặt $\\theta_0 = (\\theta_{01}, \\theta_{02}, \\theta_{03}), \\theta_1 = (\\theta_{11}, \\theta_{12}, \\theta_{13})$ và $\\theta_2 = (\\theta_{21}, \\theta_{22}, \\theta_{23})$. Giả thuyết\n",
        "$$ P_\\theta(c|x) = \\frac{e^{\\theta_c \\cdot x}}{\\sum_{c'=0}^2 e^{\\theta_{c'} \\cdot x}},c = 0, 1, 2.$$\n",
        "\n",
        "Gọi $y = (y_0, y_1, y_2)$ là one-hot vector biểu thị loại lá tương ứng với $x$. Ta Tìm các $\\theta$ sao cho\n",
        "$$ L = \\frac{1}{N} \\sum_{x,y} - y_0 \\log P_\\theta(0|x) -  y_1 \\log P_\\theta(1|x) - y_2 \\log P_\\theta(2|x) $$\n",
        "đạt giá trị nhỏ nhất.\n",
        "\n",
        "Tương tự như hưỡng dẫn, giải bài toán trên bằng gradient descent.\n",
        "\n",
        "Đồng thời so sánh kết quả với sklearn."
      ]
    },
    {
      "cell_type": "code",
      "execution_count": 166,
      "metadata": {
        "id": "ICphMZlWHOH4",
        "colab": {
          "base_uri": "https://localhost:8080/",
          "height": 206
        },
        "outputId": "7c3dbed3-edc2-4aa1-825a-97c9bdd47b8d"
      },
      "outputs": [
        {
          "output_type": "execute_result",
          "data": {
            "text/plain": [
              "          x1         x2  label\n",
              "0  55.808717  54.602061      0\n",
              "1  50.882672  52.736342      0\n",
              "2  53.196444  44.208365      0\n",
              "3  54.727839  60.406845      0\n",
              "4  49.771372  48.405605      0"
            ],
            "text/html": [
              "\n",
              "  <div id=\"df-89a2b704-3c25-4be1-bed6-7831ea9d94d3\">\n",
              "    <div class=\"colab-df-container\">\n",
              "      <div>\n",
              "<style scoped>\n",
              "    .dataframe tbody tr th:only-of-type {\n",
              "        vertical-align: middle;\n",
              "    }\n",
              "\n",
              "    .dataframe tbody tr th {\n",
              "        vertical-align: top;\n",
              "    }\n",
              "\n",
              "    .dataframe thead th {\n",
              "        text-align: right;\n",
              "    }\n",
              "</style>\n",
              "<table border=\"1\" class=\"dataframe\">\n",
              "  <thead>\n",
              "    <tr style=\"text-align: right;\">\n",
              "      <th></th>\n",
              "      <th>x1</th>\n",
              "      <th>x2</th>\n",
              "      <th>label</th>\n",
              "    </tr>\n",
              "  </thead>\n",
              "  <tbody>\n",
              "    <tr>\n",
              "      <th>0</th>\n",
              "      <td>55.808717</td>\n",
              "      <td>54.602061</td>\n",
              "      <td>0</td>\n",
              "    </tr>\n",
              "    <tr>\n",
              "      <th>1</th>\n",
              "      <td>50.882672</td>\n",
              "      <td>52.736342</td>\n",
              "      <td>0</td>\n",
              "    </tr>\n",
              "    <tr>\n",
              "      <th>2</th>\n",
              "      <td>53.196444</td>\n",
              "      <td>44.208365</td>\n",
              "      <td>0</td>\n",
              "    </tr>\n",
              "    <tr>\n",
              "      <th>3</th>\n",
              "      <td>54.727839</td>\n",
              "      <td>60.406845</td>\n",
              "      <td>0</td>\n",
              "    </tr>\n",
              "    <tr>\n",
              "      <th>4</th>\n",
              "      <td>49.771372</td>\n",
              "      <td>48.405605</td>\n",
              "      <td>0</td>\n",
              "    </tr>\n",
              "  </tbody>\n",
              "</table>\n",
              "</div>\n",
              "      <button class=\"colab-df-convert\" onclick=\"convertToInteractive('df-89a2b704-3c25-4be1-bed6-7831ea9d94d3')\"\n",
              "              title=\"Convert this dataframe to an interactive table.\"\n",
              "              style=\"display:none;\">\n",
              "        \n",
              "  <svg xmlns=\"http://www.w3.org/2000/svg\" height=\"24px\"viewBox=\"0 0 24 24\"\n",
              "       width=\"24px\">\n",
              "    <path d=\"M0 0h24v24H0V0z\" fill=\"none\"/>\n",
              "    <path d=\"M18.56 5.44l.94 2.06.94-2.06 2.06-.94-2.06-.94-.94-2.06-.94 2.06-2.06.94zm-11 1L8.5 8.5l.94-2.06 2.06-.94-2.06-.94L8.5 2.5l-.94 2.06-2.06.94zm10 10l.94 2.06.94-2.06 2.06-.94-2.06-.94-.94-2.06-.94 2.06-2.06.94z\"/><path d=\"M17.41 7.96l-1.37-1.37c-.4-.4-.92-.59-1.43-.59-.52 0-1.04.2-1.43.59L10.3 9.45l-7.72 7.72c-.78.78-.78 2.05 0 2.83L4 21.41c.39.39.9.59 1.41.59.51 0 1.02-.2 1.41-.59l7.78-7.78 2.81-2.81c.8-.78.8-2.07 0-2.86zM5.41 20L4 18.59l7.72-7.72 1.47 1.35L5.41 20z\"/>\n",
              "  </svg>\n",
              "      </button>\n",
              "      \n",
              "  <style>\n",
              "    .colab-df-container {\n",
              "      display:flex;\n",
              "      flex-wrap:wrap;\n",
              "      gap: 12px;\n",
              "    }\n",
              "\n",
              "    .colab-df-convert {\n",
              "      background-color: #E8F0FE;\n",
              "      border: none;\n",
              "      border-radius: 50%;\n",
              "      cursor: pointer;\n",
              "      display: none;\n",
              "      fill: #1967D2;\n",
              "      height: 32px;\n",
              "      padding: 0 0 0 0;\n",
              "      width: 32px;\n",
              "    }\n",
              "\n",
              "    .colab-df-convert:hover {\n",
              "      background-color: #E2EBFA;\n",
              "      box-shadow: 0px 1px 2px rgba(60, 64, 67, 0.3), 0px 1px 3px 1px rgba(60, 64, 67, 0.15);\n",
              "      fill: #174EA6;\n",
              "    }\n",
              "\n",
              "    [theme=dark] .colab-df-convert {\n",
              "      background-color: #3B4455;\n",
              "      fill: #D2E3FC;\n",
              "    }\n",
              "\n",
              "    [theme=dark] .colab-df-convert:hover {\n",
              "      background-color: #434B5C;\n",
              "      box-shadow: 0px 1px 3px 1px rgba(0, 0, 0, 0.15);\n",
              "      filter: drop-shadow(0px 1px 2px rgba(0, 0, 0, 0.3));\n",
              "      fill: #FFFFFF;\n",
              "    }\n",
              "  </style>\n",
              "\n",
              "      <script>\n",
              "        const buttonEl =\n",
              "          document.querySelector('#df-89a2b704-3c25-4be1-bed6-7831ea9d94d3 button.colab-df-convert');\n",
              "        buttonEl.style.display =\n",
              "          google.colab.kernel.accessAllowed ? 'block' : 'none';\n",
              "\n",
              "        async function convertToInteractive(key) {\n",
              "          const element = document.querySelector('#df-89a2b704-3c25-4be1-bed6-7831ea9d94d3');\n",
              "          const dataTable =\n",
              "            await google.colab.kernel.invokeFunction('convertToInteractive',\n",
              "                                                     [key], {});\n",
              "          if (!dataTable) return;\n",
              "\n",
              "          const docLinkHtml = 'Like what you see? Visit the ' +\n",
              "            '<a target=\"_blank\" href=https://colab.research.google.com/notebooks/data_table.ipynb>data table notebook</a>'\n",
              "            + ' to learn more about interactive tables.';\n",
              "          element.innerHTML = '';\n",
              "          dataTable['output_type'] = 'display_data';\n",
              "          await google.colab.output.renderOutput(dataTable, element);\n",
              "          const docLink = document.createElement('div');\n",
              "          docLink.innerHTML = docLinkHtml;\n",
              "          element.appendChild(docLink);\n",
              "        }\n",
              "      </script>\n",
              "    </div>\n",
              "  </div>\n",
              "  "
            ]
          },
          "metadata": {},
          "execution_count": 166
        }
      ],
      "source": [
        "train = pd.read_csv('bt_train.csv')\n",
        "train.head()"
      ]
    },
    {
      "cell_type": "code",
      "execution_count": 167,
      "metadata": {
        "id": "a6qBrQd3HOH5",
        "colab": {
          "base_uri": "https://localhost:8080/",
          "height": 531
        },
        "outputId": "fe2727e5-cb3e-4e1a-dd83-9a08bb49d1bb"
      },
      "outputs": [
        {
          "output_type": "execute_result",
          "data": {
            "text/plain": [
              "<matplotlib.collections.PathCollection at 0x7f2315c8e350>"
            ]
          },
          "metadata": {},
          "execution_count": 167
        },
        {
          "output_type": "display_data",
          "data": {
            "text/plain": [
              "<Figure size 432x288 with 1 Axes>"
            ],
            "image/png": "[encoded data removed]"
          },
          "metadata": {
            "needs_background": "light"
          }
        },
        {
          "output_type": "display_data",
          "data": {
            "text/plain": [
              "<Figure size 432x288 with 1 Axes>"
            ],
            "image/png": "[encoded data removed]"
          },
          "metadata": {
            "needs_background": "light"
          }
        }
      ],
      "source": [
        "x1_train = train['x1'].values\n",
        "x2_train = train['x2'].values\n",
        "y_train = train['label'].values\n",
        "\n",
        "plt.scatter(x1_train[y_train == 0], x2_train[y_train == 0])\n",
        "plt.scatter(x1_train[y_train == 1], x2_train[y_train == 1])\n",
        "plt.scatter(x1_train[y_train == 2], x2_train[y_train == 2])\n",
        "\n",
        "plt.figure()\n",
        "valid = pd.read_csv('bt_valid.csv')\n",
        "x1_valid = valid['x1'].values\n",
        "x2_valid = valid['x2'].values\n",
        "y_valid = valid['label'].values\n",
        "\n",
        "plt.scatter(x1_valid[y_valid == 0], x2_valid[y_valid == 0])\n",
        "plt.scatter(x1_valid[y_valid == 1], x2_valid[y_valid == 1])\n",
        "plt.scatter(x1_valid[y_valid == 2], x2_valid[y_valid == 2])"
      ]
    },
    {
      "cell_type": "code",
      "source": [
        "## normalization\n",
        "x1_mean = np.mean(x1_train)\n",
        "x1_std = np.std(x1_train)\n",
        "x2_mean = np.mean(x2_train)\n",
        "x2_std = np.std(x2_train)\n",
        "\n",
        "x1_train = (x1_train - x1_mean)/ x1_std\n",
        "x2_train = (x2_train - x2_mean)/ x2_std\n",
        "\n",
        "x1_valid = (x1_valid - x1_mean)/ x1_std\n",
        "x2_valid = (x2_valid - x2_mean)/ x2_std"
      ],
      "metadata": {
        "id": "7VBxvJtGC03H"
      },
      "execution_count": 168,
      "outputs": []
    },
    {
      "cell_type": "code",
      "source": [
        "one_hot = pd.get_dummies(y_train)\n",
        "Y_train = np.array(one_hot).T\n",
        "Y_train"
      ],
      "metadata": {
        "id": "ST92SSTZGMul",
        "colab": {
          "base_uri": "https://localhost:8080/"
        },
        "outputId": "09f151ff-6116-43f3-9e85-6dd8ad804eb7"
      },
      "execution_count": 169,
      "outputs": [
        {
          "output_type": "execute_result",
          "data": {
            "text/plain": [
              "array([[1, 1, 1, ..., 0, 0, 0],\n",
              "       [0, 0, 0, ..., 0, 0, 0],\n",
              "       [0, 0, 0, ..., 1, 1, 1]], dtype=uint8)"
            ]
          },
          "metadata": {},
          "execution_count": 169
        }
      ]
    },
    {
      "cell_type": "code",
      "source": [
        "one_hot = pd.get_dummies(y_valid)\n",
        "Y_valid = np.array(one_hot).T\n",
        "Y_valid.shape"
      ],
      "metadata": {
        "colab": {
          "base_uri": "https://localhost:8080/"
        },
        "id": "5F14XS5FCago",
        "outputId": "b86fe75f-7a30-4cc3-fa0a-0916708868de"
      },
      "execution_count": 170,
      "outputs": [
        {
          "output_type": "execute_result",
          "data": {
            "text/plain": [
              "(3, 300)"
            ]
          },
          "metadata": {},
          "execution_count": 170
        }
      ]
    },
    {
      "cell_type": "code",
      "source": [
        "Z = np.array([x1_train, x2_train]).T\n",
        "X_train = np.concatenate([Z, np.ones((x1_train.shape[0], 1))], axis = -1)\n",
        "X_train"
      ],
      "metadata": {
        "colab": {
          "base_uri": "https://localhost:8080/"
        },
        "id": "YSLx3jzNhTav",
        "outputId": "b3851274-0093-4e0d-ad7e-f0e7586e13f8"
      },
      "execution_count": 171,
      "outputs": [
        {
          "output_type": "execute_result",
          "data": {
            "text/plain": [
              "array([[-0.24889612,  0.74760804,  1.        ],\n",
              "       [-0.74985907,  0.44945807,  1.        ],\n",
              "       [-0.5145559 , -0.91335007,  1.        ],\n",
              "       ...,\n",
              "       [ 0.61938387,  1.6949654 ,  1.        ],\n",
              "       [ 0.93715397,  0.24593182,  1.        ],\n",
              "       [ 1.31587098,  0.87455223,  1.        ]])"
            ]
          },
          "metadata": {},
          "execution_count": 171
        }
      ]
    },
    {
      "cell_type": "code",
      "source": [
        "z = np.array([x1_valid, x2_valid]).T\n",
        "X_valid = np.concatenate([z, np.ones((x1_valid.shape[0], 1))], axis = -1)\n",
        "X_valid.shape"
      ],
      "metadata": {
        "colab": {
          "base_uri": "https://localhost:8080/"
        },
        "id": "pcFRrpPmKu-G",
        "outputId": "7af3ff9f-8c11-4c98-cae6-b0c11c5ce4cb"
      },
      "execution_count": 172,
      "outputs": [
        {
          "output_type": "execute_result",
          "data": {
            "text/plain": [
              "(300, 3)"
            ]
          },
          "metadata": {},
          "execution_count": 172
        }
      ]
    },
    {
      "cell_type": "code",
      "source": [
        "theta = np.zeros([3, 3])\n",
        "lrn_rate = 0.001\n",
        "n_iters = 300000\n",
        "\n",
        "best_theta = None\n",
        "best_val_acc = -1.0\n",
        "dL_dtheta = tuple()\n",
        "\n",
        "for ii in range(n_iters):\n",
        "    exppp = np.exp(np.matmul(X_train, theta[-1]))\n",
        "    sumexppp = np.sum(exppp, axis = 0)\n",
        "    common = exppp/ sumexppp.reshape(-1, 1)\n",
        "    dL_dtheta = np.mean((-Y_train - common).T*X_train, axis = 0).reshape(-1, 1)\n",
        "    theta = theta - lrn_rate * dL_dtheta\n",
        "    \n",
        "    if ii % 10000 == 0:\n",
        "        pred_proba_train = np.exp(np.matmul(X_train, theta[-1]))/ np.sum(np.exp(np.matmul(X_train, theta[-1])), axis = 0).reshape(-1, 1)\n",
        "        train_loss = np.mean(-Y_train.dot(np.log(pred_proba_train.reshape(-1, 1))), axis = 0)\n",
        "        train_acc = np.mean(Y_train.reshape(-1) == np.argmax(pred_proba_train, axis = 1))\n",
        "        \n",
        "        pred_proba_valid = np.exp(np.matmul(X_valid, theta[-1]))/ np.sum(np.exp(np.matmul(X_valid, theta[-1])), axis = 0).reshape(-1, 1)\n",
        "        valid_loss = np.mean(-Y_valid.dot(np.log(pred_proba_valid.reshape(-1, 1))), axis = 0)\n",
        "        valid_acc = np.mean(Y_valid.reshape(-1) == np.argmax(pred_proba_valid, axis = 1))\n",
        "        \n",
        "        if valid_acc > best_val_acc:\n",
        "            best_val_acc = valid_acc\n",
        "            best_theta = theta\n",
        "\n",
        "theta = best_theta\n",
        "train_acc = np.mean(Y_train.reshape(-1) == np.argmax(exppp/ sumexppp.reshape(-1, 1), axis = 1))\n",
        "valid_acc = np.mean(Y_valid.reshape(-1) == np.argmax(exppp/ sumexppp.reshape(-1, 1), axis = 1))\n",
        "print('Accuracy on train:', train_acc)\n",
        "print('Accuracy on valid:', valid_acc)"
      ],
      "metadata": {
        "id": "eh8ICpYFejRj",
        "colab": {
          "base_uri": "https://localhost:8080/"
        },
        "outputId": "6baca05d-c1f3-4bd0-be7a-99ba627cfae6"
      },
      "execution_count": 173,
      "outputs": [
        {
          "output_type": "stream",
          "name": "stderr",
          "text": [
            "/usr/local/lib/python3.7/dist-packages/ipykernel_launcher.py:10: RuntimeWarning: overflow encountered in exp\n",
            "  # Remove the CWD from sys.path while we load stuff.\n",
            "/usr/local/lib/python3.7/dist-packages/ipykernel_launcher.py:12: RuntimeWarning: invalid value encountered in true_divide\n",
            "  if sys.path[0] == '':\n"
          ]
        },
        {
          "output_type": "stream",
          "name": "stdout",
          "text": [
            "Accuracy on train: 0.6666666666666666\n",
            "Accuracy on valid: 0.6666666666666666\n"
          ]
        }
      ]
    },
    {
      "cell_type": "code",
      "source": [
        "from sklearn.linear_model import LogisticRegression\n",
        "\n",
        "X_train = np.concatenate([x1_train.reshape(-1, 1), x2_train.reshape(-1, 1)], axis = -1)\n",
        "X_valid = np.concatenate([x1_valid.reshape(-1, 1), x2_valid.reshape(-1, 1)], axis = -1)\n",
        "\n",
        "lr = LogisticRegression().fit(X_train, y_train)\n",
        "print('Sklearn accuracy on train:', np.mean(y_train == lr.predict(X_train)))\n",
        "print('Sklearn accuracy on valid:', np.mean(y_valid == lr.predict(X_valid)))"
      ],
      "metadata": {
        "colab": {
          "base_uri": "https://localhost:8080/"
        },
        "id": "8Xe-haTA21jE",
        "outputId": "65732c7e-e5af-4604-f9e5-66242280c0df"
      },
      "execution_count": 174,
      "outputs": [
        {
          "output_type": "stream",
          "name": "stdout",
          "text": [
            "Sklearn accuracy on train: 0.8866666666666667\n",
            "Sklearn accuracy on valid: 0.6233333333333333\n"
          ]
        }
      ]
    }
  ],
  "metadata": {
    "kernelspec": {
      "display_name": "Python 3 (ipykernel)",
      "language": "python",
      "name": "python3"
    },
    "language_info": {
      "codemirror_mode": {
        "name": "ipython",
        "version": 3
      },
      "file_extension": ".py",
      "mimetype": "text/x-python",
      "name": "python",
      "nbconvert_exporter": "python",
      "pygments_lexer": "ipython3",
      "version": "3.8.11"
    },
    "colab": {
      "name": "NMMH_TH3_19110482",
      "provenance": [],
      "collapsed_sections": []
    }
  },
  "nbformat": 4,
  "nbformat_minor": 0
}